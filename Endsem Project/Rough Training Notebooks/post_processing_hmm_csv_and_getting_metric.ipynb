{
  "nbformat": 4,
  "nbformat_minor": 0,
  "metadata": {
    "colab": {
      "name": "post_processing_hmm_csv_and_getting_metric.ipynb",
      "provenance": []
    },
    "kernelspec": {
      "name": "python3",
      "display_name": "Python 3"
    },
    "language_info": {
      "name": "python"
    }
  },
  "cells": [
    {
      "cell_type": "code",
      "metadata": {
        "colab": {
          "base_uri": "https://localhost:8080/"
        },
        "id": "wWuXX7Q-zAZa",
        "outputId": "d983988a-432e-4cdf-af64-a265d66d0259"
      },
      "source": [
        "!pip install -r /content/drive/MyDrive/5th_sem/Ee603_mlsp/Project/requirements.txt"
      ],
      "execution_count": 2,
      "outputs": [
        {
          "output_type": "stream",
          "name": "stdout",
          "text": [
            "Requirement already satisfied: scikit-learn>=0.20.3 in /usr/local/lib/python3.7/dist-packages (from -r /content/drive/MyDrive/5th_sem/Ee603_mlsp/Project/requirements.txt (line 1)) (1.0.1)\n",
            "Collecting dcase_util>=0.2.8\n",
            "  Downloading dcase_util-0.2.18.tar.gz (2.1 MB)\n",
            "\u001b[K     |████████████████████████████████| 2.1 MB 5.0 MB/s \n",
            "\u001b[?25hRequirement already satisfied: keras>=2.2.2 in /usr/local/lib/python3.7/dist-packages (from -r /content/drive/MyDrive/5th_sem/Ee603_mlsp/Project/requirements.txt (line 3)) (2.7.0)\n",
            "Requirement already satisfied: tensorflow>=1.9.0 in /usr/local/lib/python3.7/dist-packages (from -r /content/drive/MyDrive/5th_sem/Ee603_mlsp/Project/requirements.txt (line 4)) (2.7.0)\n",
            "Collecting sed_eval>=0.2.0\n",
            "  Downloading sed_eval-0.2.1.tar.gz (21 kB)\n",
            "Requirement already satisfied: scipy>=1.1.0 in /usr/local/lib/python3.7/dist-packages (from scikit-learn>=0.20.3->-r /content/drive/MyDrive/5th_sem/Ee603_mlsp/Project/requirements.txt (line 1)) (1.4.1)\n",
            "Requirement already satisfied: numpy>=1.14.6 in /usr/local/lib/python3.7/dist-packages (from scikit-learn>=0.20.3->-r /content/drive/MyDrive/5th_sem/Ee603_mlsp/Project/requirements.txt (line 1)) (1.19.5)\n",
            "Requirement already satisfied: joblib>=0.11 in /usr/local/lib/python3.7/dist-packages (from scikit-learn>=0.20.3->-r /content/drive/MyDrive/5th_sem/Ee603_mlsp/Project/requirements.txt (line 1)) (1.1.0)\n",
            "Requirement already satisfied: threadpoolctl>=2.0.0 in /usr/local/lib/python3.7/dist-packages (from scikit-learn>=0.20.3->-r /content/drive/MyDrive/5th_sem/Ee603_mlsp/Project/requirements.txt (line 1)) (3.0.0)\n",
            "Requirement already satisfied: matplotlib>=2.0.0 in /usr/local/lib/python3.7/dist-packages (from dcase_util>=0.2.8->-r /content/drive/MyDrive/5th_sem/Ee603_mlsp/Project/requirements.txt (line 2)) (3.2.2)\n",
            "Requirement already satisfied: librosa>=0.7.0 in /usr/local/lib/python3.7/dist-packages (from dcase_util>=0.2.8->-r /content/drive/MyDrive/5th_sem/Ee603_mlsp/Project/requirements.txt (line 2)) (0.8.1)\n",
            "Requirement already satisfied: six>=1.10.0 in /usr/local/lib/python3.7/dist-packages (from dcase_util>=0.2.8->-r /content/drive/MyDrive/5th_sem/Ee603_mlsp/Project/requirements.txt (line 2)) (1.15.0)\n",
            "Requirement already satisfied: future>=0.16.0 in /usr/local/lib/python3.7/dist-packages (from dcase_util>=0.2.8->-r /content/drive/MyDrive/5th_sem/Ee603_mlsp/Project/requirements.txt (line 2)) (0.16.0)\n",
            "Requirement already satisfied: soundfile>=0.9.0 in /usr/local/lib/python3.7/dist-packages (from dcase_util>=0.2.8->-r /content/drive/MyDrive/5th_sem/Ee603_mlsp/Project/requirements.txt (line 2)) (0.10.3.post1)\n",
            "Requirement already satisfied: pyyaml>=3.11 in /usr/local/lib/python3.7/dist-packages (from dcase_util>=0.2.8->-r /content/drive/MyDrive/5th_sem/Ee603_mlsp/Project/requirements.txt (line 2)) (3.13)\n",
            "Requirement already satisfied: requests>=2.12.4 in /usr/local/lib/python3.7/dist-packages (from dcase_util>=0.2.8->-r /content/drive/MyDrive/5th_sem/Ee603_mlsp/Project/requirements.txt (line 2)) (2.23.0)\n",
            "Requirement already satisfied: tqdm>=4.11.2 in /usr/local/lib/python3.7/dist-packages (from dcase_util>=0.2.8->-r /content/drive/MyDrive/5th_sem/Ee603_mlsp/Project/requirements.txt (line 2)) (4.62.3)\n",
            "Requirement already satisfied: pydot-ng>=1.0.0 in /usr/local/lib/python3.7/dist-packages (from dcase_util>=0.2.8->-r /content/drive/MyDrive/5th_sem/Ee603_mlsp/Project/requirements.txt (line 2)) (2.0.0)\n",
            "Collecting validators>=0.12.0\n",
            "  Downloading validators-0.18.2-py3-none-any.whl (19 kB)\n",
            "Collecting python-magic>=0.4.13\n",
            "  Downloading python_magic-0.4.24-py2.py3-none-any.whl (12 kB)\n",
            "Requirement already satisfied: absl-py>=0.4.0 in /usr/local/lib/python3.7/dist-packages (from tensorflow>=1.9.0->-r /content/drive/MyDrive/5th_sem/Ee603_mlsp/Project/requirements.txt (line 4)) (0.12.0)\n",
            "Requirement already satisfied: typing-extensions>=3.6.6 in /usr/local/lib/python3.7/dist-packages (from tensorflow>=1.9.0->-r /content/drive/MyDrive/5th_sem/Ee603_mlsp/Project/requirements.txt (line 4)) (3.10.0.2)\n",
            "Requirement already satisfied: protobuf>=3.9.2 in /usr/local/lib/python3.7/dist-packages (from tensorflow>=1.9.0->-r /content/drive/MyDrive/5th_sem/Ee603_mlsp/Project/requirements.txt (line 4)) (3.17.3)\n",
            "Requirement already satisfied: gast<0.5.0,>=0.2.1 in /usr/local/lib/python3.7/dist-packages (from tensorflow>=1.9.0->-r /content/drive/MyDrive/5th_sem/Ee603_mlsp/Project/requirements.txt (line 4)) (0.4.0)\n",
            "Requirement already satisfied: keras-preprocessing>=1.1.1 in /usr/local/lib/python3.7/dist-packages (from tensorflow>=1.9.0->-r /content/drive/MyDrive/5th_sem/Ee603_mlsp/Project/requirements.txt (line 4)) (1.1.2)\n",
            "Requirement already satisfied: wrapt>=1.11.0 in /usr/local/lib/python3.7/dist-packages (from tensorflow>=1.9.0->-r /content/drive/MyDrive/5th_sem/Ee603_mlsp/Project/requirements.txt (line 4)) (1.13.3)\n",
            "Requirement already satisfied: google-pasta>=0.1.1 in /usr/local/lib/python3.7/dist-packages (from tensorflow>=1.9.0->-r /content/drive/MyDrive/5th_sem/Ee603_mlsp/Project/requirements.txt (line 4)) (0.2.0)\n",
            "Requirement already satisfied: tensorboard~=2.6 in /usr/local/lib/python3.7/dist-packages (from tensorflow>=1.9.0->-r /content/drive/MyDrive/5th_sem/Ee603_mlsp/Project/requirements.txt (line 4)) (2.7.0)\n",
            "Requirement already satisfied: flatbuffers<3.0,>=1.12 in /usr/local/lib/python3.7/dist-packages (from tensorflow>=1.9.0->-r /content/drive/MyDrive/5th_sem/Ee603_mlsp/Project/requirements.txt (line 4)) (2.0)\n",
            "Requirement already satisfied: h5py>=2.9.0 in /usr/local/lib/python3.7/dist-packages (from tensorflow>=1.9.0->-r /content/drive/MyDrive/5th_sem/Ee603_mlsp/Project/requirements.txt (line 4)) (3.1.0)\n",
            "Requirement already satisfied: termcolor>=1.1.0 in /usr/local/lib/python3.7/dist-packages (from tensorflow>=1.9.0->-r /content/drive/MyDrive/5th_sem/Ee603_mlsp/Project/requirements.txt (line 4)) (1.1.0)\n",
            "Requirement already satisfied: tensorflow-estimator<2.8,~=2.7.0rc0 in /usr/local/lib/python3.7/dist-packages (from tensorflow>=1.9.0->-r /content/drive/MyDrive/5th_sem/Ee603_mlsp/Project/requirements.txt (line 4)) (2.7.0)\n",
            "Requirement already satisfied: wheel<1.0,>=0.32.0 in /usr/local/lib/python3.7/dist-packages (from tensorflow>=1.9.0->-r /content/drive/MyDrive/5th_sem/Ee603_mlsp/Project/requirements.txt (line 4)) (0.37.0)\n",
            "Requirement already satisfied: tensorflow-io-gcs-filesystem>=0.21.0 in /usr/local/lib/python3.7/dist-packages (from tensorflow>=1.9.0->-r /content/drive/MyDrive/5th_sem/Ee603_mlsp/Project/requirements.txt (line 4)) (0.22.0)\n",
            "Requirement already satisfied: astunparse>=1.6.0 in /usr/local/lib/python3.7/dist-packages (from tensorflow>=1.9.0->-r /content/drive/MyDrive/5th_sem/Ee603_mlsp/Project/requirements.txt (line 4)) (1.6.3)\n",
            "Requirement already satisfied: opt-einsum>=2.3.2 in /usr/local/lib/python3.7/dist-packages (from tensorflow>=1.9.0->-r /content/drive/MyDrive/5th_sem/Ee603_mlsp/Project/requirements.txt (line 4)) (3.3.0)\n",
            "Requirement already satisfied: libclang>=9.0.1 in /usr/local/lib/python3.7/dist-packages (from tensorflow>=1.9.0->-r /content/drive/MyDrive/5th_sem/Ee603_mlsp/Project/requirements.txt (line 4)) (12.0.0)\n",
            "Requirement already satisfied: grpcio<2.0,>=1.24.3 in /usr/local/lib/python3.7/dist-packages (from tensorflow>=1.9.0->-r /content/drive/MyDrive/5th_sem/Ee603_mlsp/Project/requirements.txt (line 4)) (1.41.1)\n",
            "Requirement already satisfied: cached-property in /usr/local/lib/python3.7/dist-packages (from h5py>=2.9.0->tensorflow>=1.9.0->-r /content/drive/MyDrive/5th_sem/Ee603_mlsp/Project/requirements.txt (line 4)) (1.5.2)\n",
            "Requirement already satisfied: resampy>=0.2.2 in /usr/local/lib/python3.7/dist-packages (from librosa>=0.7.0->dcase_util>=0.2.8->-r /content/drive/MyDrive/5th_sem/Ee603_mlsp/Project/requirements.txt (line 2)) (0.2.2)\n",
            "Requirement already satisfied: numba>=0.43.0 in /usr/local/lib/python3.7/dist-packages (from librosa>=0.7.0->dcase_util>=0.2.8->-r /content/drive/MyDrive/5th_sem/Ee603_mlsp/Project/requirements.txt (line 2)) (0.51.2)\n",
            "Requirement already satisfied: pooch>=1.0 in /usr/local/lib/python3.7/dist-packages (from librosa>=0.7.0->dcase_util>=0.2.8->-r /content/drive/MyDrive/5th_sem/Ee603_mlsp/Project/requirements.txt (line 2)) (1.5.2)\n",
            "Requirement already satisfied: audioread>=2.0.0 in /usr/local/lib/python3.7/dist-packages (from librosa>=0.7.0->dcase_util>=0.2.8->-r /content/drive/MyDrive/5th_sem/Ee603_mlsp/Project/requirements.txt (line 2)) (2.1.9)\n",
            "Requirement already satisfied: decorator>=3.0.0 in /usr/local/lib/python3.7/dist-packages (from librosa>=0.7.0->dcase_util>=0.2.8->-r /content/drive/MyDrive/5th_sem/Ee603_mlsp/Project/requirements.txt (line 2)) (4.4.2)\n",
            "Requirement already satisfied: packaging>=20.0 in /usr/local/lib/python3.7/dist-packages (from librosa>=0.7.0->dcase_util>=0.2.8->-r /content/drive/MyDrive/5th_sem/Ee603_mlsp/Project/requirements.txt (line 2)) (21.2)\n",
            "Requirement already satisfied: cycler>=0.10 in /usr/local/lib/python3.7/dist-packages (from matplotlib>=2.0.0->dcase_util>=0.2.8->-r /content/drive/MyDrive/5th_sem/Ee603_mlsp/Project/requirements.txt (line 2)) (0.11.0)\n",
            "Requirement already satisfied: pyparsing!=2.0.4,!=2.1.2,!=2.1.6,>=2.0.1 in /usr/local/lib/python3.7/dist-packages (from matplotlib>=2.0.0->dcase_util>=0.2.8->-r /content/drive/MyDrive/5th_sem/Ee603_mlsp/Project/requirements.txt (line 2)) (2.4.7)\n",
            "Requirement already satisfied: python-dateutil>=2.1 in /usr/local/lib/python3.7/dist-packages (from matplotlib>=2.0.0->dcase_util>=0.2.8->-r /content/drive/MyDrive/5th_sem/Ee603_mlsp/Project/requirements.txt (line 2)) (2.8.2)\n",
            "Requirement already satisfied: kiwisolver>=1.0.1 in /usr/local/lib/python3.7/dist-packages (from matplotlib>=2.0.0->dcase_util>=0.2.8->-r /content/drive/MyDrive/5th_sem/Ee603_mlsp/Project/requirements.txt (line 2)) (1.3.2)\n",
            "Requirement already satisfied: setuptools in /usr/local/lib/python3.7/dist-packages (from numba>=0.43.0->librosa>=0.7.0->dcase_util>=0.2.8->-r /content/drive/MyDrive/5th_sem/Ee603_mlsp/Project/requirements.txt (line 2)) (57.4.0)\n",
            "Requirement already satisfied: llvmlite<0.35,>=0.34.0.dev0 in /usr/local/lib/python3.7/dist-packages (from numba>=0.43.0->librosa>=0.7.0->dcase_util>=0.2.8->-r /content/drive/MyDrive/5th_sem/Ee603_mlsp/Project/requirements.txt (line 2)) (0.34.0)\n",
            "Requirement already satisfied: appdirs in /usr/local/lib/python3.7/dist-packages (from pooch>=1.0->librosa>=0.7.0->dcase_util>=0.2.8->-r /content/drive/MyDrive/5th_sem/Ee603_mlsp/Project/requirements.txt (line 2)) (1.4.4)\n",
            "Requirement already satisfied: idna<3,>=2.5 in /usr/local/lib/python3.7/dist-packages (from requests>=2.12.4->dcase_util>=0.2.8->-r /content/drive/MyDrive/5th_sem/Ee603_mlsp/Project/requirements.txt (line 2)) (2.10)\n",
            "Requirement already satisfied: chardet<4,>=3.0.2 in /usr/local/lib/python3.7/dist-packages (from requests>=2.12.4->dcase_util>=0.2.8->-r /content/drive/MyDrive/5th_sem/Ee603_mlsp/Project/requirements.txt (line 2)) (3.0.4)\n",
            "Requirement already satisfied: urllib3!=1.25.0,!=1.25.1,<1.26,>=1.21.1 in /usr/local/lib/python3.7/dist-packages (from requests>=2.12.4->dcase_util>=0.2.8->-r /content/drive/MyDrive/5th_sem/Ee603_mlsp/Project/requirements.txt (line 2)) (1.24.3)\n",
            "Requirement already satisfied: certifi>=2017.4.17 in /usr/local/lib/python3.7/dist-packages (from requests>=2.12.4->dcase_util>=0.2.8->-r /content/drive/MyDrive/5th_sem/Ee603_mlsp/Project/requirements.txt (line 2)) (2021.10.8)\n",
            "Requirement already satisfied: cffi>=1.0 in /usr/local/lib/python3.7/dist-packages (from soundfile>=0.9.0->dcase_util>=0.2.8->-r /content/drive/MyDrive/5th_sem/Ee603_mlsp/Project/requirements.txt (line 2)) (1.15.0)\n",
            "Requirement already satisfied: pycparser in /usr/local/lib/python3.7/dist-packages (from cffi>=1.0->soundfile>=0.9.0->dcase_util>=0.2.8->-r /content/drive/MyDrive/5th_sem/Ee603_mlsp/Project/requirements.txt (line 2)) (2.21)\n",
            "Requirement already satisfied: tensorboard-plugin-wit>=1.6.0 in /usr/local/lib/python3.7/dist-packages (from tensorboard~=2.6->tensorflow>=1.9.0->-r /content/drive/MyDrive/5th_sem/Ee603_mlsp/Project/requirements.txt (line 4)) (1.8.0)\n",
            "Requirement already satisfied: werkzeug>=0.11.15 in /usr/local/lib/python3.7/dist-packages (from tensorboard~=2.6->tensorflow>=1.9.0->-r /content/drive/MyDrive/5th_sem/Ee603_mlsp/Project/requirements.txt (line 4)) (1.0.1)\n",
            "Requirement already satisfied: google-auth-oauthlib<0.5,>=0.4.1 in /usr/local/lib/python3.7/dist-packages (from tensorboard~=2.6->tensorflow>=1.9.0->-r /content/drive/MyDrive/5th_sem/Ee603_mlsp/Project/requirements.txt (line 4)) (0.4.6)\n",
            "Requirement already satisfied: markdown>=2.6.8 in /usr/local/lib/python3.7/dist-packages (from tensorboard~=2.6->tensorflow>=1.9.0->-r /content/drive/MyDrive/5th_sem/Ee603_mlsp/Project/requirements.txt (line 4)) (3.3.4)\n",
            "Requirement already satisfied: tensorboard-data-server<0.7.0,>=0.6.0 in /usr/local/lib/python3.7/dist-packages (from tensorboard~=2.6->tensorflow>=1.9.0->-r /content/drive/MyDrive/5th_sem/Ee603_mlsp/Project/requirements.txt (line 4)) (0.6.1)\n",
            "Requirement already satisfied: google-auth<3,>=1.6.3 in /usr/local/lib/python3.7/dist-packages (from tensorboard~=2.6->tensorflow>=1.9.0->-r /content/drive/MyDrive/5th_sem/Ee603_mlsp/Project/requirements.txt (line 4)) (1.35.0)\n",
            "Requirement already satisfied: cachetools<5.0,>=2.0.0 in /usr/local/lib/python3.7/dist-packages (from google-auth<3,>=1.6.3->tensorboard~=2.6->tensorflow>=1.9.0->-r /content/drive/MyDrive/5th_sem/Ee603_mlsp/Project/requirements.txt (line 4)) (4.2.4)\n",
            "Requirement already satisfied: rsa<5,>=3.1.4 in /usr/local/lib/python3.7/dist-packages (from google-auth<3,>=1.6.3->tensorboard~=2.6->tensorflow>=1.9.0->-r /content/drive/MyDrive/5th_sem/Ee603_mlsp/Project/requirements.txt (line 4)) (4.7.2)\n",
            "Requirement already satisfied: pyasn1-modules>=0.2.1 in /usr/local/lib/python3.7/dist-packages (from google-auth<3,>=1.6.3->tensorboard~=2.6->tensorflow>=1.9.0->-r /content/drive/MyDrive/5th_sem/Ee603_mlsp/Project/requirements.txt (line 4)) (0.2.8)\n",
            "Requirement already satisfied: requests-oauthlib>=0.7.0 in /usr/local/lib/python3.7/dist-packages (from google-auth-oauthlib<0.5,>=0.4.1->tensorboard~=2.6->tensorflow>=1.9.0->-r /content/drive/MyDrive/5th_sem/Ee603_mlsp/Project/requirements.txt (line 4)) (1.3.0)\n",
            "Requirement already satisfied: importlib-metadata in /usr/local/lib/python3.7/dist-packages (from markdown>=2.6.8->tensorboard~=2.6->tensorflow>=1.9.0->-r /content/drive/MyDrive/5th_sem/Ee603_mlsp/Project/requirements.txt (line 4)) (4.8.2)\n",
            "Requirement already satisfied: pyasn1<0.5.0,>=0.4.6 in /usr/local/lib/python3.7/dist-packages (from pyasn1-modules>=0.2.1->google-auth<3,>=1.6.3->tensorboard~=2.6->tensorflow>=1.9.0->-r /content/drive/MyDrive/5th_sem/Ee603_mlsp/Project/requirements.txt (line 4)) (0.4.8)\n",
            "Requirement already satisfied: oauthlib>=3.0.0 in /usr/local/lib/python3.7/dist-packages (from requests-oauthlib>=0.7.0->google-auth-oauthlib<0.5,>=0.4.1->tensorboard~=2.6->tensorflow>=1.9.0->-r /content/drive/MyDrive/5th_sem/Ee603_mlsp/Project/requirements.txt (line 4)) (3.1.1)\n",
            "Requirement already satisfied: zipp>=0.5 in /usr/local/lib/python3.7/dist-packages (from importlib-metadata->markdown>=2.6.8->tensorboard~=2.6->tensorflow>=1.9.0->-r /content/drive/MyDrive/5th_sem/Ee603_mlsp/Project/requirements.txt (line 4)) (3.6.0)\n",
            "Building wheels for collected packages: dcase-util, sed-eval\n",
            "  Building wheel for dcase-util (setup.py) ... \u001b[?25l\u001b[?25hdone\n",
            "  Created wheel for dcase-util: filename=dcase_util-0.2.18-py3-none-any.whl size=2147231 sha256=8f5a85792dde29774a34105f0c16ced5084b95bd1544eac581dc0ee5bdb1b0ef\n",
            "  Stored in directory: /root/.cache/pip/wheels/f2/75/d1/e4fc6f415d1100dc30c39c955aa2bfbd0d88c6138076e74793\n",
            "  Building wheel for sed-eval (setup.py) ... \u001b[?25l\u001b[?25hdone\n",
            "  Created wheel for sed-eval: filename=sed_eval-0.2.1-py3-none-any.whl size=26124 sha256=353e0ee75bbc7767cf01e216dd8d66cdaa63c9892e22ade57e6e10f2f994d3b6\n",
            "  Stored in directory: /root/.cache/pip/wheels/96/19/00/a3ec89acfdbd2568185a1ae3020590e76ee73a47ac4ff83e84\n",
            "Successfully built dcase-util sed-eval\n",
            "Installing collected packages: validators, python-magic, dcase-util, sed-eval\n",
            "Successfully installed dcase-util-0.2.18 python-magic-0.4.24 sed-eval-0.2.1 validators-0.18.2\n"
          ]
        }
      ]
    },
    {
      "cell_type": "code",
      "metadata": {
        "id": "RopkhmcAzrgi"
      },
      "source": [
        "import tensorflow.compat.v1 as tf\n",
        "#tf.disable_v2_behavior()"
      ],
      "execution_count": 3,
      "outputs": []
    },
    {
      "cell_type": "code",
      "metadata": {
        "id": "cgG0X6N8UXQF"
      },
      "source": [
        "import numpy as np\n",
        "import os\n",
        "import librosa\n",
        "import librosa.display"
      ],
      "execution_count": 4,
      "outputs": []
    },
    {
      "cell_type": "code",
      "metadata": {
        "colab": {
          "base_uri": "https://localhost:8080/"
        },
        "id": "lU_KepouEqh4",
        "outputId": "545fd343-2002-486e-d5fc-824f1a53e69a"
      },
      "source": [
        "! pip install dcase_util\n",
        "import dcase_util"
      ],
      "execution_count": 5,
      "outputs": [
        {
          "output_type": "stream",
          "name": "stdout",
          "text": [
            "Requirement already satisfied: dcase_util in /usr/local/lib/python3.7/dist-packages (0.2.18)\n",
            "Requirement already satisfied: python-magic>=0.4.13 in /usr/local/lib/python3.7/dist-packages (from dcase_util) (0.4.24)\n",
            "Requirement already satisfied: tqdm>=4.11.2 in /usr/local/lib/python3.7/dist-packages (from dcase_util) (4.62.3)\n",
            "Requirement already satisfied: librosa>=0.7.0 in /usr/local/lib/python3.7/dist-packages (from dcase_util) (0.8.1)\n",
            "Requirement already satisfied: soundfile>=0.9.0 in /usr/local/lib/python3.7/dist-packages (from dcase_util) (0.10.3.post1)\n",
            "Requirement already satisfied: pyyaml>=3.11 in /usr/local/lib/python3.7/dist-packages (from dcase_util) (3.13)\n",
            "Requirement already satisfied: requests>=2.12.4 in /usr/local/lib/python3.7/dist-packages (from dcase_util) (2.23.0)\n",
            "Requirement already satisfied: validators>=0.12.0 in /usr/local/lib/python3.7/dist-packages (from dcase_util) (0.18.2)\n",
            "Requirement already satisfied: six>=1.10.0 in /usr/local/lib/python3.7/dist-packages (from dcase_util) (1.15.0)\n",
            "Requirement already satisfied: scipy>=0.19.1 in /usr/local/lib/python3.7/dist-packages (from dcase_util) (1.4.1)\n",
            "Requirement already satisfied: numpy>=1.9.2 in /usr/local/lib/python3.7/dist-packages (from dcase_util) (1.19.5)\n",
            "Requirement already satisfied: pydot-ng>=1.0.0 in /usr/local/lib/python3.7/dist-packages (from dcase_util) (2.0.0)\n",
            "Requirement already satisfied: future>=0.16.0 in /usr/local/lib/python3.7/dist-packages (from dcase_util) (0.16.0)\n",
            "Requirement already satisfied: matplotlib>=2.0.0 in /usr/local/lib/python3.7/dist-packages (from dcase_util) (3.2.2)\n",
            "Requirement already satisfied: decorator>=3.0.0 in /usr/local/lib/python3.7/dist-packages (from librosa>=0.7.0->dcase_util) (4.4.2)\n",
            "Requirement already satisfied: audioread>=2.0.0 in /usr/local/lib/python3.7/dist-packages (from librosa>=0.7.0->dcase_util) (2.1.9)\n",
            "Requirement already satisfied: numba>=0.43.0 in /usr/local/lib/python3.7/dist-packages (from librosa>=0.7.0->dcase_util) (0.51.2)\n",
            "Requirement already satisfied: packaging>=20.0 in /usr/local/lib/python3.7/dist-packages (from librosa>=0.7.0->dcase_util) (21.2)\n",
            "Requirement already satisfied: pooch>=1.0 in /usr/local/lib/python3.7/dist-packages (from librosa>=0.7.0->dcase_util) (1.5.2)\n",
            "Requirement already satisfied: scikit-learn!=0.19.0,>=0.14.0 in /usr/local/lib/python3.7/dist-packages (from librosa>=0.7.0->dcase_util) (1.0.1)\n",
            "Requirement already satisfied: joblib>=0.14 in /usr/local/lib/python3.7/dist-packages (from librosa>=0.7.0->dcase_util) (1.1.0)\n",
            "Requirement already satisfied: resampy>=0.2.2 in /usr/local/lib/python3.7/dist-packages (from librosa>=0.7.0->dcase_util) (0.2.2)\n",
            "Requirement already satisfied: pyparsing!=2.0.4,!=2.1.2,!=2.1.6,>=2.0.1 in /usr/local/lib/python3.7/dist-packages (from matplotlib>=2.0.0->dcase_util) (2.4.7)\n",
            "Requirement already satisfied: kiwisolver>=1.0.1 in /usr/local/lib/python3.7/dist-packages (from matplotlib>=2.0.0->dcase_util) (1.3.2)\n",
            "Requirement already satisfied: python-dateutil>=2.1 in /usr/local/lib/python3.7/dist-packages (from matplotlib>=2.0.0->dcase_util) (2.8.2)\n",
            "Requirement already satisfied: cycler>=0.10 in /usr/local/lib/python3.7/dist-packages (from matplotlib>=2.0.0->dcase_util) (0.11.0)\n",
            "Requirement already satisfied: llvmlite<0.35,>=0.34.0.dev0 in /usr/local/lib/python3.7/dist-packages (from numba>=0.43.0->librosa>=0.7.0->dcase_util) (0.34.0)\n",
            "Requirement already satisfied: setuptools in /usr/local/lib/python3.7/dist-packages (from numba>=0.43.0->librosa>=0.7.0->dcase_util) (57.4.0)\n",
            "Requirement already satisfied: appdirs in /usr/local/lib/python3.7/dist-packages (from pooch>=1.0->librosa>=0.7.0->dcase_util) (1.4.4)\n",
            "Requirement already satisfied: certifi>=2017.4.17 in /usr/local/lib/python3.7/dist-packages (from requests>=2.12.4->dcase_util) (2021.10.8)\n",
            "Requirement already satisfied: idna<3,>=2.5 in /usr/local/lib/python3.7/dist-packages (from requests>=2.12.4->dcase_util) (2.10)\n",
            "Requirement already satisfied: chardet<4,>=3.0.2 in /usr/local/lib/python3.7/dist-packages (from requests>=2.12.4->dcase_util) (3.0.4)\n",
            "Requirement already satisfied: urllib3!=1.25.0,!=1.25.1,<1.26,>=1.21.1 in /usr/local/lib/python3.7/dist-packages (from requests>=2.12.4->dcase_util) (1.24.3)\n",
            "Requirement already satisfied: threadpoolctl>=2.0.0 in /usr/local/lib/python3.7/dist-packages (from scikit-learn!=0.19.0,>=0.14.0->librosa>=0.7.0->dcase_util) (3.0.0)\n",
            "Requirement already satisfied: cffi>=1.0 in /usr/local/lib/python3.7/dist-packages (from soundfile>=0.9.0->dcase_util) (1.15.0)\n",
            "Requirement already satisfied: pycparser in /usr/local/lib/python3.7/dist-packages (from cffi>=1.0->soundfile>=0.9.0->dcase_util) (2.21)\n"
          ]
        }
      ]
    },
    {
      "cell_type": "code",
      "metadata": {
        "id": "xqvYgPesyyo6"
      },
      "source": [
        "import dcase_util\n",
        "from dcase_util.containers import AudioContainer\n",
        "import os, numpy\n",
        "from tqdm import tqdm_notebook as tqdm\n",
        "import matplotlib.pyplot as plt\n",
        "import sed_eval\n",
        "%matplotlib inline\n",
        "\n",
        "# Handy tool to print data in HTML form\n",
        "log = dcase_util.ui.FancyHTMLPrinter()\n",
        "\n",
        "# Paths to store data\n",
        "data_storage_path = '/content/data'\n",
        "dataset_storage_path = os.path.join(data_storage_path, 'datasets')\n",
        "feature_storage_path = os.path.join(data_storage_path, 'features_sed')\n",
        "dcase_util.utils.Path().create(\n",
        "    [data_storage_path, dataset_storage_path, feature_storage_path]\n",
        ")\n",
        "\n",
        "# Filename for acoustic model\n",
        "model_filename = os.path.join(data_storage_path, 'model_sed.h5')  \n",
        "    \n",
        "# Setup Keras to use tensorflow as backend\n",
        "dcase_util.keras.setup_keras(backend='tensorflow')\n",
        "import keras\n",
        "from keras.layers import *\n",
        "from keras.models import Model"
      ],
      "execution_count": 7,
      "outputs": []
    },
    {
      "cell_type": "code",
      "metadata": {
        "id": "AB1n9eU7ExtL"
      },
      "source": [
        "def csv_to_meta_container(csv_file_path):\n",
        "  dict_container = dcase_util.containers.ListDictContainer(filename = csv_file_path)\n",
        "  dict_container.load()\n",
        "  train_meta = dcase_util.containers.MetaDataContainer(dict_container)\n",
        "  print(train_meta)\n",
        "  return train_meta"
      ],
      "execution_count": 12,
      "outputs": []
    },
    {
      "cell_type": "code",
      "metadata": {
        "colab": {
          "base_uri": "https://localhost:8080/"
        },
        "id": "0dDLfHr1YKce",
        "outputId": "b25d0160-8140-4a57-a676-134c0318d18c"
      },
      "source": [
        "train_meta = csv_to_meta_container('/content/hmm_mock_1.csv')"
      ],
      "execution_count": 84,
      "outputs": [
        {
          "output_type": "stream",
          "name": "stdout",
          "text": [
            "MetaDataContainer :: Class\n",
            "Items                               : 178 \n",
            "Unique\n",
            "  Files                             : 10 \n",
            "  Scene labels                      : 0 \n",
            "  Event labels                      : 2 \n",
            "  Tags                              : 0 \n",
            "  Identifiers                       : 0 \n",
            "  Source labels                     : 0 \n",
            "\n",
            "Meta data\n",
            "  Source                  Onset   Offset   Scene             Event             Tags              Identifier   \n",
            "  --------------------   ------   ------   ---------------   ---------------   ---------------   -----   \n",
            "  test_sample-9.npy        0.00     2.04   -                 speech            -                 -       \n",
            "  test_sample-9.npy        2.04     2.08   -                 music             -                 -       \n",
            "  test_sample-9.npy        2.08     2.56   -                 speech            -                 -       \n",
            "  test_sample-9.npy        2.56     2.59   -                 music             -                 -       \n",
            "  test_sample-9.npy        2.59     3.13   -                 speech            -                 -       \n",
            "  test_sample-9.npy        3.13     3.16   -                 music             -                 -       \n",
            "  test_sample-9.npy        3.16     7.16   -                 speech            -                 -       \n",
            "  test_sample-9.npy        7.16     7.19   -                 music             -                 -       \n",
            "  test_sample-9.npy        7.19     7.80   -                 speech            -                 -       \n",
            "  test_sample-9.npy        7.80     7.83   -                 music             -                 -       \n",
            "  test_sample-9.npy        7.83     9.11   -                 speech            -                 -       \n",
            "  test_sample-9.npy        9.11     9.14   -                 music             -                 -       \n",
            "  test_sample-9.npy        9.14    10.00   -                 speech            -                 -       \n",
            "  test_sample-8.npy        0.00     1.88   -                 speech            -                 -       \n",
            "  test_sample-8.npy        1.88     1.92   -                 music             -                 -       \n",
            "  test_sample-8.npy        1.92     2.36   -                 speech            -                 -       \n",
            "  test_sample-8.npy        2.36     2.40   -                 music             -                 -       \n",
            "  test_sample-8.npy        2.40     2.81   -                 speech            -                 -       \n",
            "  test_sample-8.npy        2.81     2.84   -                 music             -                 -       \n",
            "  test_sample-8.npy        2.84     3.48   -                 speech            -                 -       \n",
            "  test_sample-8.npy        3.48     3.51   -                 music             -                 -       \n",
            "  test_sample-8.npy        3.51     5.46   -                 speech            -                 -       \n",
            "  test_sample-8.npy        5.46     5.50   -                 music             -                 -       \n",
            "  test_sample-8.npy        5.50     5.53   -                 speech            -                 -       \n",
            "  test_sample-8.npy        5.53     5.56   -                 music             -                 -       \n",
            "  test_sample-8.npy        5.56     6.36   -                 speech            -                 -       \n",
            "  test_sample-8.npy        6.36     6.39   -                 music             -                 -       \n",
            "  test_sample-8.npy        6.39     6.45   -                 speech            -                 -       \n",
            "  test_sample-8.npy        6.45     6.49   -                 music             -                 -       \n",
            "  test_sample-8.npy        6.49     9.30   -                 speech            -                 -       \n",
            "  test_sample-8.npy        9.30     9.33   -                 music             -                 -       \n",
            "  test_sample-8.npy        9.33    10.00   -                 speech            -                 -       \n",
            "  test_sample-7.npy        0.00     4.86   -                 speech            -                 -       \n",
            "  test_sample-7.npy        4.86     4.89   -                 music             -                 -       \n",
            "  test_sample-7.npy        4.89     6.10   -                 speech            -                 -       \n",
            "  test_sample-7.npy        6.10     6.13   -                 music             -                 -       \n",
            "  test_sample-7.npy        6.13     7.48   -                 speech            -                 -       \n",
            "  test_sample-7.npy        7.48     7.51   -                 music             -                 -       \n",
            "  test_sample-7.npy        7.51     9.52   -                 speech            -                 -       \n",
            "  test_sample-7.npy        9.52     9.58   -                 music             -                 -       \n",
            "  test_sample-7.npy        9.58     9.62   -                 speech            -                 -       \n",
            "  test_sample-7.npy        9.62     9.71   -                 music             -                 -       \n",
            "  test_sample-7.npy        9.71     9.84   -                 speech            -                 -       \n",
            "  test_sample-7.npy        9.84     9.90   -                 music             -                 -       \n",
            "  test_sample-7.npy        9.90    10.00   -                 speech            -                 -       \n",
            "  test_sample-4.npy        0.00     1.47   -                 speech            -                 -       \n",
            "  test_sample-4.npy        1.47     1.50   -                 music             -                 -       \n",
            "  test_sample-4.npy        1.50     1.76   -                 speech            -                 -       \n",
            "  test_sample-4.npy        1.76     1.79   -                 music             -                 -       \n",
            "  test_sample-4.npy        1.79     2.24   -                 speech            -                 -       \n",
            "  test_sample-4.npy        2.24     2.27   -                 music             -                 -       \n",
            "  test_sample-4.npy        2.27     2.56   -                 speech            -                 -       \n",
            "  test_sample-4.npy        2.56     2.59   -                 music             -                 -       \n",
            "  test_sample-4.npy        2.59     4.09   -                 speech            -                 -       \n",
            "  test_sample-4.npy        4.09     4.12   -                 music             -                 -       \n",
            "  test_sample-4.npy        4.12     4.79   -                 speech            -                 -       \n",
            "  test_sample-4.npy        4.79     4.82   -                 music             -                 -       \n",
            "  test_sample-4.npy        4.82     6.13   -                 speech            -                 -       \n",
            "  test_sample-4.npy        6.13     6.17   -                 music             -                 -       \n",
            "  test_sample-4.npy        6.17    10.00   -                 speech            -                 -       \n",
            "  test_sample-6.npy        0.00     1.34   -                 speech            -                 -       \n",
            "  test_sample-6.npy        1.34     1.41   -                 music             -                 -       \n",
            "  test_sample-6.npy        1.41     1.44   -                 speech            -                 -       \n",
            "  test_sample-6.npy        1.44     1.47   -                 music             -                 -       \n",
            "  test_sample-6.npy        1.47     3.55   -                 speech            -                 -       \n",
            "  test_sample-6.npy        3.55     3.58   -                 music             -                 -       \n",
            "  test_sample-6.npy        3.58     4.54   -                 speech            -                 -       \n",
            "  test_sample-6.npy        4.54     4.57   -                 music             -                 -       \n",
            "  test_sample-6.npy        4.57     5.37   -                 speech            -                 -       \n",
            "  test_sample-6.npy        5.37     5.40   -                 music             -                 -       \n",
            "  test_sample-6.npy        5.40     6.68   -                 speech            -                 -       \n",
            "  test_sample-6.npy        6.68     6.71   -                 music             -                 -       \n",
            "  test_sample-6.npy        6.71     7.06   -                 speech            -                 -       \n",
            "  test_sample-6.npy        7.06     7.09   -                 music             -                 -       \n",
            "  test_sample-6.npy        7.09     8.34   -                 speech            -                 -       \n",
            "  test_sample-6.npy        8.34     8.37   -                 music             -                 -       \n",
            "  test_sample-6.npy        8.37     8.47   -                 speech            -                 -       \n",
            "  test_sample-6.npy        8.47     8.50   -                 music             -                 -       \n",
            "  test_sample-6.npy        8.50    10.00   -                 speech            -                 -       \n",
            "  test_sample-5.npy        0.00     0.16   -                 speech            -                 -       \n",
            "  test_sample-5.npy        0.16     0.19   -                 music             -                 -       \n",
            "  test_sample-5.npy        0.19     0.32   -                 speech            -                 -       \n",
            "  test_sample-5.npy        0.32     0.35   -                 music             -                 -       \n",
            "  test_sample-5.npy        0.35     2.36   -                 speech            -                 -       \n",
            "  test_sample-5.npy        2.36     2.40   -                 music             -                 -       \n",
            "  test_sample-5.npy        2.40     3.74   -                 speech            -                 -       \n",
            "  test_sample-5.npy        3.74     3.77   -                 music             -                 -       \n",
            "  test_sample-5.npy        3.77     4.28   -                 speech            -                 -       \n",
            "  test_sample-5.npy        4.28     4.31   -                 music             -                 -       \n",
            "  test_sample-5.npy        4.31     4.47   -                 speech            -                 -       \n",
            "  test_sample-5.npy        4.47     4.50   -                 music             -                 -       \n",
            "  test_sample-5.npy        4.50     5.62   -                 speech            -                 -       \n",
            "  test_sample-5.npy        5.62     5.65   -                 music             -                 -       \n",
            "  test_sample-5.npy        5.65     5.88   -                 speech            -                 -       \n",
            "  test_sample-5.npy        5.88     5.91   -                 music             -                 -       \n",
            "  test_sample-5.npy        5.91     5.97   -                 speech            -                 -       \n",
            "  test_sample-5.npy        5.97     6.01   -                 music             -                 -       \n",
            "  test_sample-5.npy        6.01     6.17   -                 speech            -                 -       \n",
            "  test_sample-5.npy        6.17     6.20   -                 music             -                 -       \n",
            "  test_sample-5.npy        6.20     6.87   -                 speech            -                 -       \n",
            "  test_sample-5.npy        6.87     6.90   -                 music             -                 -       \n",
            "  test_sample-5.npy        6.90     9.39   -                 speech            -                 -       \n",
            "  test_sample-5.npy        9.39     9.74   -                 music             -                 -       \n",
            "  test_sample-5.npy        9.74    10.00   -                 speech            -                 -       \n",
            "  test_sample-3.npy        0.00     2.94   -                 speech            -                 -       \n",
            "  test_sample-3.npy        2.94     2.97   -                 music             -                 -       \n",
            "  test_sample-3.npy        2.97     5.75   -                 speech            -                 -       \n",
            "  test_sample-3.npy        5.75     5.78   -                 music             -                 -       \n",
            "  test_sample-3.npy        5.78     7.57   -                 speech            -                 -       \n",
            "  test_sample-3.npy        7.57     7.60   -                 music             -                 -       \n",
            "  test_sample-3.npy        7.60     8.88   -                 speech            -                 -       \n",
            "  test_sample-3.npy        8.88     8.91   -                 music             -                 -       \n",
            "  test_sample-3.npy        8.91    10.00   -                 speech            -                 -       \n",
            "  test_sample-2.npy        0.00     0.64   -                 speech            -                 -       \n",
            "  test_sample-2.npy        0.64     0.67   -                 music             -                 -       \n",
            "  test_sample-2.npy        0.67     1.37   -                 speech            -                 -       \n",
            "  test_sample-2.npy        1.37     1.41   -                 music             -                 -       \n",
            "  test_sample-2.npy        1.41     1.92   -                 speech            -                 -       \n",
            "  test_sample-2.npy        1.92     1.95   -                 music             -                 -       \n",
            "  test_sample-2.npy        1.95     2.30   -                 speech            -                 -       \n",
            "  test_sample-2.npy        2.30     2.81   -                 music             -                 -       \n",
            "  test_sample-2.npy        2.81     2.84   -                 speech            -                 -       \n",
            "  test_sample-2.npy        2.84     3.23   -                 music             -                 -       \n",
            "  test_sample-2.npy        3.23     3.26   -                 speech            -                 -       \n",
            "  test_sample-2.npy        3.26     3.83   -                 music             -                 -       \n",
            "  test_sample-2.npy        3.83     3.90   -                 speech            -                 -       \n",
            "  test_sample-2.npy        3.90     3.96   -                 music             -                 -       \n",
            "  test_sample-2.npy        3.96     4.98   -                 speech            -                 -       \n",
            "  test_sample-2.npy        4.98     5.05   -                 music             -                 -       \n",
            "  test_sample-2.npy        5.05     5.18   -                 speech            -                 -       \n",
            "  test_sample-2.npy        5.18     5.24   -                 music             -                 -       \n",
            "  test_sample-2.npy        5.24     5.46   -                 speech            -                 -       \n",
            "  test_sample-2.npy        5.46     5.62   -                 music             -                 -       \n",
            "  test_sample-2.npy        5.62     5.69   -                 speech            -                 -       \n",
            "  test_sample-2.npy        5.69     5.88   -                 music             -                 -       \n",
            "  test_sample-2.npy        5.88     6.01   -                 speech            -                 -       \n",
            "  test_sample-2.npy        6.01     6.07   -                 music             -                 -       \n",
            "  test_sample-2.npy        6.07     6.10   -                 speech            -                 -       \n",
            "  test_sample-2.npy        6.10     6.13   -                 music             -                 -       \n",
            "  test_sample-2.npy        6.13     6.39   -                 speech            -                 -       \n",
            "  test_sample-2.npy        6.39     6.42   -                 music             -                 -       \n",
            "  test_sample-2.npy        6.42    10.00   -                 speech            -                 -       \n",
            "  test_sample-1.npy        0.00     1.73   -                 speech            -                 -       \n",
            "  test_sample-1.npy        1.73     1.76   -                 music             -                 -       \n",
            "  test_sample-1.npy        1.76     2.49   -                 speech            -                 -       \n",
            "  test_sample-1.npy        2.49     2.52   -                 music             -                 -       \n",
            "  test_sample-1.npy        2.52     5.97   -                 speech            -                 -       \n",
            "  test_sample-1.npy        5.97     6.01   -                 music             -                 -       \n",
            "  test_sample-1.npy        6.01     6.10   -                 speech            -                 -       \n",
            "  test_sample-1.npy        6.10     6.13   -                 music             -                 -       \n",
            "  test_sample-1.npy        6.13     7.67   -                 speech            -                 -       \n",
            "  test_sample-1.npy        7.67     7.70   -                 music             -                 -       \n",
            "  test_sample-1.npy        7.70     9.07   -                 speech            -                 -       \n",
            "  test_sample-1.npy        9.07     9.74   -                 music             -                 -       \n",
            "  test_sample-1.npy        9.74    10.00   -                 speech            -                 -       \n",
            "  test_sample-0.npy        0.00     1.41   -                 speech            -                 -       \n",
            "  test_sample-0.npy        1.41     1.44   -                 music             -                 -       \n",
            "  test_sample-0.npy        1.44     1.76   -                 speech            -                 -       \n",
            "  test_sample-0.npy        1.76     1.79   -                 music             -                 -       \n",
            "  test_sample-0.npy        1.79     2.40   -                 speech            -                 -       \n",
            "  test_sample-0.npy        2.40     2.43   -                 music             -                 -       \n",
            "  test_sample-0.npy        2.43     6.23   -                 speech            -                 -       \n",
            "  test_sample-0.npy        6.23     6.29   -                 music             -                 -       \n",
            "  test_sample-0.npy        6.29     6.33   -                 speech            -                 -       \n",
            "  test_sample-0.npy        6.33     6.61   -                 music             -                 -       \n",
            "  test_sample-0.npy        6.61     7.32   -                 speech            -                 -       \n",
            "  test_sample-0.npy        7.32     7.60   -                 music             -                 -       \n",
            "  test_sample-0.npy        7.60     7.67   -                 speech            -                 -       \n",
            "  test_sample-0.npy        7.67     7.89   -                 music             -                 -       \n",
            "  test_sample-0.npy        7.89     7.99   -                 speech            -                 -       \n",
            "  test_sample-0.npy        7.99     8.21   -                 music             -                 -       \n",
            "  test_sample-0.npy        8.21     8.31   -                 speech            -                 -       \n",
            "  test_sample-0.npy        8.31     8.40   -                 music             -                 -       \n",
            "  test_sample-0.npy        8.40     8.75   -                 speech            -                 -       \n",
            "  test_sample-0.npy        8.75     9.23   -                 music             -                 -       \n",
            "  test_sample-0.npy        9.23     9.30   -                 speech            -                 -       \n",
            "  test_sample-0.npy        9.30     9.39   -                 music             -                 -       \n",
            "  test_sample-0.npy        9.39    10.00   -                 speech            -                 -       \n",
            "\n",
            "Event statistics\n",
            "  Event label             Count   Tot. Length   Avg. Length   \n",
            "  --------------------   ------   -----------   -----------   \n",
            "  music                      84          7.09          0.08   \n",
            "  speech                     94         92.91          0.99   \n",
            "\n",
            "\n"
          ]
        }
      ]
    },
    {
      "cell_type": "code",
      "metadata": {
        "colab": {
          "base_uri": "https://localhost:8080/"
        },
        "id": "UMI81I9iNH3V",
        "outputId": "c9a56dc9-890f-4f42-99d1-e1b884a24224"
      },
      "source": [
        "res = dcase_util.containers.MetaDataContainer(filename=os.path.join(data_storage_path, 'results_sed_hmm.csv'))\n",
        "for file_name in train_meta.unique_files:\n",
        "  event_list = train_meta.filter(filename=file_name)\n",
        "  event_list = event_list.process_events(minimum_event_gap = 0.5)\n",
        "  event_list = event_list.process_events(minimum_event_length = 0.7)\n",
        "  print(file_name)\n",
        "  res += event_list\n",
        "\n",
        "res = res.filter(event_list = ['speech', 'music'])\n",
        "\n",
        "res.save('results_hmm_mock_1.csv')\n",
        "# res.save('temp.csv')"
      ],
      "execution_count": 85,
      "outputs": [
        {
          "output_type": "stream",
          "name": "stdout",
          "text": [
            "test_sample-0.npy\n",
            "test_sample-1.npy\n",
            "test_sample-2.npy\n",
            "test_sample-3.npy\n",
            "test_sample-4.npy\n",
            "test_sample-5.npy\n",
            "test_sample-6.npy\n",
            "test_sample-7.npy\n",
            "test_sample-8.npy\n",
            "test_sample-9.npy\n"
          ]
        },
        {
          "output_type": "execute_result",
          "data": {
            "text/plain": [
              "[{'event_label': 'music',\n",
              "  'filename': 'test_sample-0.npy',\n",
              "  'offset': 9.392971246,\n",
              "  'onset': 7.31629393},\n",
              " {'event_label': 'speech',\n",
              "  'filename': 'test_sample-0.npy',\n",
              "  'offset': 10.0,\n",
              "  'onset': 0.0},\n",
              " {'event_label': 'speech',\n",
              "  'filename': 'test_sample-1.npy',\n",
              "  'offset': 9.073482428,\n",
              "  'onset': 0.0},\n",
              " {'event_label': 'music',\n",
              "  'filename': 'test_sample-2.npy',\n",
              "  'offset': 3.961661342,\n",
              "  'onset': 1.916932907},\n",
              " {'event_label': 'music',\n",
              "  'filename': 'test_sample-2.npy',\n",
              "  'offset': 6.42172524,\n",
              "  'onset': 4.984025559},\n",
              " {'event_label': 'speech',\n",
              "  'filename': 'test_sample-2.npy',\n",
              "  'offset': 2.300319489,\n",
              "  'onset': 0.0},\n",
              " {'event_label': 'speech',\n",
              "  'filename': 'test_sample-2.npy',\n",
              "  'offset': 10.0,\n",
              "  'onset': 3.833865815},\n",
              " {'event_label': 'speech',\n",
              "  'filename': 'test_sample-3.npy',\n",
              "  'offset': 10.0,\n",
              "  'onset': 0.0},\n",
              " {'event_label': 'music',\n",
              "  'filename': 'test_sample-4.npy',\n",
              "  'offset': 2.587859425,\n",
              "  'onset': 1.469648562},\n",
              " {'event_label': 'speech',\n",
              "  'filename': 'test_sample-4.npy',\n",
              "  'offset': 10.0,\n",
              "  'onset': 0.0},\n",
              " {'event_label': 'speech',\n",
              "  'filename': 'test_sample-5.npy',\n",
              "  'offset': 10.0,\n",
              "  'onset': 0.0},\n",
              " {'event_label': 'speech',\n",
              "  'filename': 'test_sample-6.npy',\n",
              "  'offset': 10.0,\n",
              "  'onset': 0.0},\n",
              " {'event_label': 'speech',\n",
              "  'filename': 'test_sample-7.npy',\n",
              "  'offset': 10.0,\n",
              "  'onset': 0.0},\n",
              " {'event_label': 'music',\n",
              "  'filename': 'test_sample-8.npy',\n",
              "  'offset': 2.843450479,\n",
              "  'onset': 1.884984026},\n",
              " {'event_label': 'speech',\n",
              "  'filename': 'test_sample-8.npy',\n",
              "  'offset': 10.0,\n",
              "  'onset': 0.0},\n",
              " {'event_label': 'speech',\n",
              "  'filename': 'test_sample-9.npy',\n",
              "  'offset': 10.0,\n",
              "  'onset': 0.0}]"
            ]
          },
          "metadata": {},
          "execution_count": 85
        }
      ]
    },
    {
      "cell_type": "code",
      "metadata": {
        "id": "-VNmzsLqPpWw"
      },
      "source": [
        "# print(len(res), len(train_meta))"
      ],
      "execution_count": 86,
      "outputs": []
    },
    {
      "cell_type": "code",
      "metadata": {
        "id": "FlMdOx1YPuEP"
      },
      "source": [
        "# res = res.filter(event_list = ['speech', 'music'])\n",
        "# print(res)"
      ],
      "execution_count": 87,
      "outputs": []
    },
    {
      "cell_type": "code",
      "metadata": {
        "id": "ec3RtNz9RPHb"
      },
      "source": [
        "# type(res)"
      ],
      "execution_count": 88,
      "outputs": []
    },
    {
      "cell_type": "code",
      "metadata": {
        "id": "l5EfyHBIRUZa"
      },
      "source": [
        "# type(train_meta)"
      ],
      "execution_count": 89,
      "outputs": []
    },
    {
      "cell_type": "code",
      "metadata": {
        "id": "nD3KBIXLPvxN"
      },
      "source": [
        "# res.save('temp.csv')"
      ],
      "execution_count": 77,
      "outputs": []
    },
    {
      "cell_type": "code",
      "metadata": {
        "id": "VorMtFyXQkzM"
      },
      "source": [
        "############# Evaluating #####################"
      ],
      "execution_count": 78,
      "outputs": []
    },
    {
      "cell_type": "code",
      "metadata": {
        "id": "jUE3w0E6WAYg"
      },
      "source": [
        ""
      ],
      "execution_count": 78,
      "outputs": []
    },
    {
      "cell_type": "markdown",
      "metadata": {
        "id": "p0AgypUZyypa"
      },
      "source": [
        "## Preparing data for evaluation"
      ]
    },
    {
      "cell_type": "markdown",
      "metadata": {
        "id": "0ihQQ06Cyypa"
      },
      "source": [
        "Prepare reference data and estimated to have filenames in uniform format:"
      ]
    },
    {
      "cell_type": "code",
      "metadata": {
        "colab": {
          "base_uri": "https://localhost:8080/"
        },
        "id": "rR1U44hiZGMv",
        "outputId": "d9bab2d0-824a-4100-bdd1-274bc2d533de"
      },
      "source": [
        "validation_data = csv_to_meta_container('/content/True_Labels_Task_1.csv')"
      ],
      "execution_count": 79,
      "outputs": [
        {
          "output_type": "stream",
          "name": "stdout",
          "text": [
            "MetaDataContainer :: Class\n",
            "Items                               : 14 \n",
            "Unique\n",
            "  Files                             : 10 \n",
            "  Scene labels                      : 0 \n",
            "  Event labels                      : 2 \n",
            "  Tags                              : 0 \n",
            "  Identifiers                       : 0 \n",
            "  Source labels                     : 0 \n",
            "\n",
            "Meta data\n",
            "  Source                  Onset   Offset   Scene             Event             Tags              Identifier   \n",
            "  --------------------   ------   ------   ---------------   ---------------   ---------------   -----   \n",
            "  test_sample-0            6.23     9.95   -                 Music             -                 -       \n",
            "  test_sample-1            2.30     6.40   -                 Speech            -                 -       \n",
            "  test_sample-1            7.10     9.80   -                 Music             -                 -       \n",
            "  test_sample-2            2.30     3.98   -                 Music             -                 -       \n",
            "  test_sample-3            4.20     8.20   -                 Speech            -                 -       \n",
            "  test_sample-4            1.32     5.30   -                 Music             -                 -       \n",
            "  test_sample-4            6.80     9.50   -                 Speech            -                 -       \n",
            "  test_sample-5            0.70     4.40   -                 Music             -                 -       \n",
            "  test_sample-6            1.20     3.80   -                 Speech            -                 -       \n",
            "  test_sample-6            5.80     8.80   -                 Music             -                 -       \n",
            "  test_sample-7            4.21     8.50   -                 Music             -                 -       \n",
            "  test_sample-8            1.35     4.21   -                 Speech            -                 -       \n",
            "  test_sample-8            7.10     9.99   -                 Speech            -                 -       \n",
            "  test_sample-9            1.66     3.37   -                 Speech            -                 -       \n",
            "\n",
            "Event statistics\n",
            "  Event label             Count   Tot. Length   Avg. Length   \n",
            "  --------------------   ------   -----------   -----------   \n",
            "  Music                       7         23.07          3.30   \n",
            "  Speech                      7         20.86          2.98   \n",
            "\n",
            "\n"
          ]
        }
      ]
    },
    {
      "cell_type": "code",
      "metadata": {
        "id": "fXjT7pH6yypb"
      },
      "source": [
        "reference_event_list = validation_data\n",
        "estimated_event_list = dcase_util.containers.MetaDataContainer(\n",
        "    filename=os.path.join('/content/', 'results_task1_spectro.csv')\n",
        ").load()\n",
        "\n",
        "for item_id, item in enumerate(estimated_event_list):\n",
        "    estimated_event_list[item_id]['filename'] = item.filename.split('.')[0]    "
      ],
      "execution_count": 80,
      "outputs": []
    },
    {
      "cell_type": "code",
      "metadata": {
        "colab": {
          "base_uri": "https://localhost:8080/"
        },
        "id": "ZXhwrQ9nUTxP",
        "outputId": "10acf64f-0595-442a-cbb5-63a5aa99de47"
      },
      "source": [
        "print(estimated_event_list)"
      ],
      "execution_count": 81,
      "outputs": [
        {
          "output_type": "stream",
          "name": "stdout",
          "text": [
            "MetaDataContainer :: Class\n",
            "Filename                            : /content/results_task1_spectro.csv \n",
            "Items                               : 28 \n",
            "Unique\n",
            "  Files                             : 10 \n",
            "  Scene labels                      : 0 \n",
            "  Event labels                      : 2 \n",
            "  Tags                              : 0 \n",
            "  Identifiers                       : 0 \n",
            "  Source labels                     : 0 \n",
            "\n",
            "Meta data\n",
            "  Source                  Onset   Offset   Scene             Event             Tags              Identifier   \n",
            "  --------------------   ------   ------   ---------------   ---------------   ---------------   -----   \n",
            "  test_sample-0            1.82     5.08   -                 music             -                 -       \n",
            "  test_sample-0            1.82     2.52   -                 speech            -                 -       \n",
            "  test_sample-0            5.05    10.00   -                 speech            -                 -       \n",
            "  test_sample-1            1.63     5.02   -                 music             -                 -       \n",
            "  test_sample-1            8.08     9.97   -                 music             -                 -       \n",
            "  test_sample-1            1.41     2.14   -                 speech            -                 -       \n",
            "  test_sample-1            5.02     8.08   -                 speech            -                 -       \n",
            "  test_sample-2            1.98     5.08   -                 music             -                 -       \n",
            "  test_sample-2            5.05    10.00   -                 speech            -                 -       \n",
            "  test_sample-3            1.63     5.02   -                 music             -                 -       \n",
            "  test_sample-3            4.98     9.78   -                 speech            -                 -       \n",
            "  test_sample-4            1.63     5.02   -                 music             -                 -       \n",
            "  test_sample-4            1.41     2.14   -                 speech            -                 -       \n",
            "  test_sample-4            5.02     9.94   -                 speech            -                 -       \n",
            "  test_sample-5            1.53     5.02   -                 music             -                 -       \n",
            "  test_sample-5            1.34     2.14   -                 speech            -                 -       \n",
            "  test_sample-5            5.02     9.94   -                 speech            -                 -       \n",
            "  test_sample-6            1.63     5.05   -                 music             -                 -       \n",
            "  test_sample-6            1.41     2.14   -                 speech            -                 -       \n",
            "  test_sample-6            5.02     9.78   -                 speech            -                 -       \n",
            "  test_sample-7            1.25     4.60   -                 music             -                 -       \n",
            "  test_sample-7            4.57    10.00   -                 speech            -                 -       \n",
            "  test_sample-8            2.04     5.02   -                 music             -                 -       \n",
            "  test_sample-8            9.20     9.94   -                 music             -                 -       \n",
            "  test_sample-8            1.37     2.14   -                 speech            -                 -       \n",
            "  test_sample-8            4.98     9.94   -                 speech            -                 -       \n",
            "  test_sample-9            0.38     5.05   -                 music             -                 -       \n",
            "  test_sample-9            5.05    10.00   -                 speech            -                 -       \n",
            "\n",
            "Event statistics\n",
            "  Event label             Count   Tot. Length   Avg. Length   \n",
            "  --------------------   ------   -----------   -----------   \n",
            "  music                      12         37.03          3.09   \n",
            "  speech                     16         52.17          3.26   \n",
            "\n",
            "\n"
          ]
        }
      ]
    },
    {
      "cell_type": "code",
      "metadata": {
        "colab": {
          "base_uri": "https://localhost:8080/"
        },
        "id": "Zg6autDGUxqf",
        "outputId": "68bbffd6-0366-4714-86a0-8ca59eee3a21"
      },
      "source": [
        "print(reference_event_list)"
      ],
      "execution_count": 82,
      "outputs": [
        {
          "output_type": "stream",
          "name": "stdout",
          "text": [
            "MetaDataContainer :: Class\n",
            "Items                               : 14 \n",
            "Unique\n",
            "  Files                             : 10 \n",
            "  Scene labels                      : 0 \n",
            "  Event labels                      : 2 \n",
            "  Tags                              : 0 \n",
            "  Identifiers                       : 0 \n",
            "  Source labels                     : 0 \n",
            "\n",
            "Meta data\n",
            "  Source                  Onset   Offset   Scene             Event             Tags              Identifier   \n",
            "  --------------------   ------   ------   ---------------   ---------------   ---------------   -----   \n",
            "  test_sample-0            6.23     9.95   -                 Music             -                 -       \n",
            "  test_sample-1            2.30     6.40   -                 Speech            -                 -       \n",
            "  test_sample-1            7.10     9.80   -                 Music             -                 -       \n",
            "  test_sample-2            2.30     3.98   -                 Music             -                 -       \n",
            "  test_sample-3            4.20     8.20   -                 Speech            -                 -       \n",
            "  test_sample-4            1.32     5.30   -                 Music             -                 -       \n",
            "  test_sample-4            6.80     9.50   -                 Speech            -                 -       \n",
            "  test_sample-5            0.70     4.40   -                 Music             -                 -       \n",
            "  test_sample-6            1.20     3.80   -                 Speech            -                 -       \n",
            "  test_sample-6            5.80     8.80   -                 Music             -                 -       \n",
            "  test_sample-7            4.21     8.50   -                 Music             -                 -       \n",
            "  test_sample-8            1.35     4.21   -                 Speech            -                 -       \n",
            "  test_sample-8            7.10     9.99   -                 Speech            -                 -       \n",
            "  test_sample-9            1.66     3.37   -                 Speech            -                 -       \n",
            "\n",
            "Event statistics\n",
            "  Event label             Count   Tot. Length   Avg. Length   \n",
            "  --------------------   ------   -----------   -----------   \n",
            "  Music                       7         23.07          3.30   \n",
            "  Speech                      7         20.86          2.98   \n",
            "\n",
            "\n"
          ]
        }
      ]
    },
    {
      "cell_type": "code",
      "metadata": {
        "id": "tw935_4Ryypb",
        "colab": {
          "base_uri": "https://localhost:8080/",
          "height": 387
        },
        "outputId": "b99bc211-991d-40d2-f885-c87d92fb4e71"
      },
      "source": [
        "# Initialize evaluator with list of event labels to be evaluated and segment length\n",
        "evaluator = sed_eval.sound_event.SegmentBasedMetrics(\n",
        "    event_label_list=['speech', 'music'], \n",
        "    time_resolution=0.2                    # 1 second segments\n",
        ")\n",
        "# Loop file by file and accumulate intermediate statistics\n",
        "for filename in reference_event_list.unique_files:\n",
        "    evaluator.evaluate(\n",
        "        reference_event_list=reference_event_list.filter(filename=filename),\n",
        "        estimated_event_list=estimated_event_list.filter(filename=filename)\n",
        "    ) \n",
        "metrics = evaluator.results_overall_metrics()"
      ],
      "execution_count": 83,
      "outputs": [
        {
          "output_type": "error",
          "ename": "ValueError",
          "evalue": "ignored",
          "traceback": [
            "\u001b[0;31m---------------------------------------------------------------------------\u001b[0m",
            "\u001b[0;31mValueError\u001b[0m                                Traceback (most recent call last)",
            "\u001b[0;32m<ipython-input-83-a98a5058b2e9>\u001b[0m in \u001b[0;36m<module>\u001b[0;34m()\u001b[0m\n\u001b[1;32m      8\u001b[0m     evaluator.evaluate(\n\u001b[1;32m      9\u001b[0m         \u001b[0mreference_event_list\u001b[0m\u001b[0;34m=\u001b[0m\u001b[0mreference_event_list\u001b[0m\u001b[0;34m.\u001b[0m\u001b[0mfilter\u001b[0m\u001b[0;34m(\u001b[0m\u001b[0mfilename\u001b[0m\u001b[0;34m=\u001b[0m\u001b[0mfilename\u001b[0m\u001b[0;34m)\u001b[0m\u001b[0;34m,\u001b[0m\u001b[0;34m\u001b[0m\u001b[0;34m\u001b[0m\u001b[0m\n\u001b[0;32m---> 10\u001b[0;31m         \u001b[0mestimated_event_list\u001b[0m\u001b[0;34m=\u001b[0m\u001b[0mestimated_event_list\u001b[0m\u001b[0;34m.\u001b[0m\u001b[0mfilter\u001b[0m\u001b[0;34m(\u001b[0m\u001b[0mfilename\u001b[0m\u001b[0;34m=\u001b[0m\u001b[0mfilename\u001b[0m\u001b[0;34m)\u001b[0m\u001b[0;34m\u001b[0m\u001b[0;34m\u001b[0m\u001b[0m\n\u001b[0m\u001b[1;32m     11\u001b[0m     ) \n\u001b[1;32m     12\u001b[0m \u001b[0mmetrics\u001b[0m \u001b[0;34m=\u001b[0m \u001b[0mevaluator\u001b[0m\u001b[0;34m.\u001b[0m\u001b[0mresults_overall_metrics\u001b[0m\u001b[0;34m(\u001b[0m\u001b[0;34m)\u001b[0m\u001b[0;34m\u001b[0m\u001b[0;34m\u001b[0m\u001b[0m\n",
            "\u001b[0;32m/usr/local/lib/python3.7/dist-packages/sed_eval/sound_event.py\u001b[0m in \u001b[0;36mevaluate\u001b[0;34m(self, reference_event_list, estimated_event_list, evaluated_length_seconds)\u001b[0m\n\u001b[1;32m    741\u001b[0m             \u001b[0msource_event_list\u001b[0m\u001b[0;34m=\u001b[0m\u001b[0mreference_event_list\u001b[0m\u001b[0;34m,\u001b[0m\u001b[0;34m\u001b[0m\u001b[0;34m\u001b[0m\u001b[0m\n\u001b[1;32m    742\u001b[0m             \u001b[0mevent_label_list\u001b[0m\u001b[0;34m=\u001b[0m\u001b[0mself\u001b[0m\u001b[0;34m.\u001b[0m\u001b[0mevent_label_list\u001b[0m\u001b[0;34m,\u001b[0m\u001b[0;34m\u001b[0m\u001b[0;34m\u001b[0m\u001b[0m\n\u001b[0;32m--> 743\u001b[0;31m             \u001b[0mtime_resolution\u001b[0m\u001b[0;34m=\u001b[0m\u001b[0mself\u001b[0m\u001b[0;34m.\u001b[0m\u001b[0mtime_resolution\u001b[0m\u001b[0;34m\u001b[0m\u001b[0;34m\u001b[0m\u001b[0m\n\u001b[0m\u001b[1;32m    744\u001b[0m         )\n\u001b[1;32m    745\u001b[0m \u001b[0;34m\u001b[0m\u001b[0m\n",
            "\u001b[0;32m/usr/local/lib/python3.7/dist-packages/sed_eval/util/event_roll.py\u001b[0m in \u001b[0;36mevent_list_to_event_roll\u001b[0;34m(source_event_list, event_label_list, time_resolution)\u001b[0m\n\u001b[1;32m     54\u001b[0m     \u001b[0;31m# Fill-in event_roll\u001b[0m\u001b[0;34m\u001b[0m\u001b[0;34m\u001b[0m\u001b[0;34m\u001b[0m\u001b[0m\n\u001b[1;32m     55\u001b[0m     \u001b[0;32mfor\u001b[0m \u001b[0mevent\u001b[0m \u001b[0;32min\u001b[0m \u001b[0msource_event_list\u001b[0m\u001b[0;34m:\u001b[0m\u001b[0;34m\u001b[0m\u001b[0;34m\u001b[0m\u001b[0m\n\u001b[0;32m---> 56\u001b[0;31m         \u001b[0mpos\u001b[0m \u001b[0;34m=\u001b[0m \u001b[0mevent_label_list\u001b[0m\u001b[0;34m.\u001b[0m\u001b[0mindex\u001b[0m\u001b[0;34m(\u001b[0m\u001b[0mevent\u001b[0m\u001b[0;34m[\u001b[0m\u001b[0;34m'event_label'\u001b[0m\u001b[0;34m]\u001b[0m\u001b[0;34m)\u001b[0m\u001b[0;34m\u001b[0m\u001b[0;34m\u001b[0m\u001b[0m\n\u001b[0m\u001b[1;32m     57\u001b[0m \u001b[0;34m\u001b[0m\u001b[0m\n\u001b[1;32m     58\u001b[0m         \u001b[0;32mif\u001b[0m \u001b[0;34m'event_onset'\u001b[0m \u001b[0;32min\u001b[0m \u001b[0mevent\u001b[0m \u001b[0;32mand\u001b[0m \u001b[0;34m'event_offset'\u001b[0m \u001b[0;32min\u001b[0m \u001b[0mevent\u001b[0m\u001b[0;34m:\u001b[0m\u001b[0;34m\u001b[0m\u001b[0;34m\u001b[0m\u001b[0m\n",
            "\u001b[0;31mValueError\u001b[0m: 'Music' is not in list"
          ]
        }
      ]
    },
    {
      "cell_type": "markdown",
      "metadata": {
        "id": "mYzc3xUQyypb"
      },
      "source": [
        "## Metric values"
      ]
    },
    {
      "cell_type": "code",
      "metadata": {
        "hide_input": true,
        "colab": {
          "base_uri": "https://localhost:8080/",
          "height": 224
        },
        "id": "j11VT-M6yypb",
        "outputId": "5b164452-3217-4280-e18d-a3a9ac67d66e"
      },
      "source": [
        "log.table(\n",
        "    column_headers=['Metric', 'Value'],\n",
        "    cell_data=[\n",
        "        [\n",
        "          '<strong>F-score</strong>',\n",
        "          'Precision',\n",
        "          'Recall',\n",
        "          '<strong>Error rate</strong>',\n",
        "            'Substitutions',\n",
        "            'Deletions',\n",
        "            'Insertions'\n",
        "        ],\n",
        "        [\n",
        "            metrics['f_measure']['f_measure']*100.0,\n",
        "            metrics['f_measure']['precision']*100.0,\n",
        "            metrics['f_measure']['recall']*100.0,\n",
        "            metrics['error_rate']['error_rate'],\n",
        "            metrics['error_rate']['substitution_rate'],\n",
        "            metrics['error_rate']['deletion_rate'],\n",
        "            metrics['error_rate']['insertion_rate'],\n",
        "        ]\n",
        "    ],\n",
        "    row_separators=[3],\n",
        "    scaling=130\n",
        ")"
      ],
      "execution_count": 70,
      "outputs": [
        {
          "output_type": "display_data",
          "data": {
            "text/html": [
              "<table class=\"table table-striped table-condensed\" style=\"font-size:130%;width:auto;margin-top:0em;margin-left:0px;\"><thead style=\"border-bottom: 0px solid transparent;\"><tr><th style=\"width:200px;border-bottom:2px solid #333;text-align:left;\">Metric</th><th style=\"width:60px;border-bottom:2px solid #333;text-align:right;\">Value</th></tr></thead><tbody><tr><td style=\"text-align:left;\"><strong>F-score</strong></td><td style=\"text-align:right;\"> 75.15</td></tr><tr><td style=\"text-align:left;\">Precision</td><td style=\"text-align:right;\"> 72.47</td></tr><tr><td style=\"text-align:left;\">Recall</td><td style=\"text-align:right;\"> 78.04</td></tr><tr><td style=\"border-top:2px solid #333;text-align:left;\"><strong>Error rate</strong></td><td style=\"border-top:2px solid #333;text-align:right;\">  0.41</td></tr><tr><td style=\"text-align:left;\">Substitutions</td><td style=\"text-align:right;\">  0.11</td></tr><tr><td style=\"text-align:left;\">Deletions</td><td style=\"text-align:right;\">  0.11</td></tr><tr><td style=\"text-align:left;\">Insertions</td><td style=\"text-align:right;\">  0.19</td></tr></tbody></table>"
            ],
            "text/plain": [
              "<IPython.core.display.HTML object>"
            ]
          },
          "metadata": {}
        }
      ]
    },
    {
      "cell_type": "markdown",
      "metadata": {
        "id": "fQbc4t5Myypb"
      },
      "source": [
        "## Class-wise metrics"
      ]
    },
    {
      "cell_type": "code",
      "metadata": {
        "hide_input": true,
        "id": "aTvDRHJEyypb",
        "colab": {
          "base_uri": "https://localhost:8080/",
          "height": 95
        },
        "outputId": "c803ba4f-43e5-460b-bf5c-8d55aacbdd81"
      },
      "source": [
        "class_metrics = evaluator.results_class_wise_metrics()\n",
        "Nref = []\n",
        "Nsys = []\n",
        "Fscore=[]\n",
        "for event_label in list(class_metrics.keys()):\n",
        "    Nref.append(class_metrics[event_label]['count']['Nref'])\n",
        "    Nsys.append(class_metrics[event_label]['count']['Nsys'])\n",
        "    Fscore.append(class_metrics[event_label]['f_measure']['f_measure']*100.0)\n",
        "log.table(\n",
        "    column_headers=['Event', 'Nref', 'Nsys', 'Fscore'],\n",
        "    cell_data=[\n",
        "        list(class_metrics.keys()),Nref,Nsys,Fscore\n",
        "    ],\n",
        "    column_types=['str25', 'int', 'int', 'float2'],\n",
        "    column_separators=[0,2],\n",
        "    scaling=130\n",
        ")"
      ],
      "execution_count": 56,
      "outputs": [
        {
          "output_type": "display_data",
          "data": {
            "text/html": [
              "<table class=\"table table-striped table-condensed\" style=\"font-size:130%;width:auto;margin-top:0em;margin-left:0px;\"><thead style=\"border-bottom: 0px solid transparent;\"><tr><th style=\"width:250px;border-bottom:2px solid #333;border-right:2px solid #333;text-align:left;\">Event</th><th style=\"width:60px;border-bottom:2px solid #333;text-align:right;\">Nref</th><th style=\"width:60px;border-bottom:2px solid #333;border-right:2px solid #333;text-align:right;\">Nsys</th><th style=\"width:60px;border-bottom:2px solid #333;text-align:right;\">Fscore</th></tr></thead><tbody><tr><td style=\"border-right:2px solid #333;text-align:left;\">speech</td><td style=\"text-align:right;\">2625</td><td style=\"border-right:2px solid #333;text-align:right;\">2920</td><td style=\"text-align:right;\"> 75.38</td></tr><tr><td style=\"border-right:2px solid #333;text-align:left;\">music</td><td style=\"text-align:right;\">2375</td><td style=\"border-right:2px solid #333;text-align:right;\">2464</td><td style=\"text-align:right;\"> 74.89</td></tr></tbody></table>"
            ],
            "text/plain": [
              "<IPython.core.display.HTML object>"
            ]
          },
          "metadata": {}
        }
      ]
    },
    {
      "cell_type": "markdown",
      "metadata": {
        "id": "zERp7LXHyypc"
      },
      "source": [
        "Output directly from `sed_eval` evaluator:"
      ]
    },
    {
      "cell_type": "code",
      "metadata": {
        "hide_input": false,
        "id": "_Udejr7_yypc",
        "colab": {
          "base_uri": "https://localhost:8080/"
        },
        "outputId": "455381b0-16cf-4461-feae-fd60c48a0165"
      },
      "source": [
        "print(evaluator)    "
      ],
      "execution_count": 57,
      "outputs": [
        {
          "output_type": "stream",
          "name": "stdout",
          "text": [
            "Segment based metrics\n",
            "========================================\n",
            "  Evaluated length                  : 1543.49 sec\n",
            "  Evaluated files                   : 170 \n",
            "  Segment length                    : 200.00 ms\n",
            "\n",
            "  Overall metrics (micro-average)\n",
            "  ======================================\n",
            "  F-measure\n",
            "    F-measure (F1)                  : 75.15 %\n",
            "    Precision                       : 72.47 %\n",
            "    Recall                          : 78.04 %\n",
            "  Error rate\n",
            "    Error rate (ER)                 : 0.41 \n",
            "    Substitution rate               : 0.11 \n",
            "    Deletion rate                   : 0.11 \n",
            "    Insertion rate                  : 0.19 \n",
            "  Accuracy\n",
            "    Sensitivity                     : 78.04 %\n",
            "    Specificity                     : 85.82 %\n",
            "    Balanced accuracy               : 81.93 %\n",
            "    Accuracy                        : 83.31 %\n",
            "\n",
            "  Class-wise average metrics (macro-average)\n",
            "  ======================================\n",
            "  F-measure\n",
            "    F-measure (F1)                  : 75.14 %\n",
            "    Precision                       : 72.56 %\n",
            "    Recall                          : 77.96 %\n",
            "  Error rate\n",
            "    Error rate (ER)                 : 0.52 \n",
            "    Deletion rate                   : 0.22 \n",
            "    Insertion rate                  : 0.30 \n",
            "  Accuracy\n",
            "    Sensitivity                     : 77.96 %\n",
            "    Specificity                     : 85.77 %\n",
            "    Balanced accuracy               : 81.87 %\n",
            "    Accuracy                        : 83.31 %\n",
            "  \n",
            "\n",
            "  Class-wise metrics\n",
            "  ======================================\n",
            "    Event label  | Nref    Nsys  | F        Pre      Rec    | ER       Del      Ins    | Sens     Spec     Bacc     Acc     \n",
            "    ------------ | -----   ----- | ------   ------   ------ | ------   ------   ------ | ------   ------   ------   ------  \n",
            "    speech       | 2625    2920  | 75.4%    71.6%    79.6%  | 0.52     0.20     0.32   | 79.6%    83.7%    81.7%    82.3%   \n",
            "    music        | 2375    2464  | 74.9%    73.5%    76.3%  | 0.51     0.24     0.27   | 76.3%    87.8%    82.1%    84.3%   \n",
            "\n",
            "\n"
          ]
        }
      ]
    },
    {
      "cell_type": "code",
      "metadata": {
        "id": "8a00uJCzVNcE"
      },
      "source": [
        ""
      ],
      "execution_count": null,
      "outputs": []
    }
  ]
}