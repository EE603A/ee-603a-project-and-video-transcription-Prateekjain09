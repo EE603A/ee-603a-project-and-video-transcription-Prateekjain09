{
  "nbformat": 4,
  "nbformat_minor": 0,
  "metadata": {
    "colab": {
      "name": "CNN_RNN_SED_Submission_Notebook.ipynb",
      "provenance": [],
      "collapsed_sections": []
    },
    "kernelspec": {
      "name": "python3",
      "display_name": "Python 3"
    },
    "language_info": {
      "name": "python"
    },
    "accelerator": "GPU"
  },
  "cells": [
    {
      "cell_type": "code",
      "metadata": {
        "id": "RopkhmcAzrgi"
      },
      "source": [
        "import tensorflow.compat.v1 as tf"
      ],
      "execution_count": null,
      "outputs": []
    },
    {
      "cell_type": "code",
      "metadata": {
        "id": "cgG0X6N8UXQF"
      },
      "source": [
        "import numpy as np\n",
        "import os\n",
        "import librosa\n",
        "import librosa.display"
      ],
      "execution_count": null,
      "outputs": []
    },
    {
      "cell_type": "code",
      "metadata": {
        "id": "l8HdaXiQ1dUj"
      },
      "source": [
        "def binarization(self, probabilities, binarization_type='global_threshold', threshold=0.5, time_axis=1):\n",
        "        \"\"\"Binarization\n",
        "        Parameters\n",
        "        ----------\n",
        "        probabilities : numpy.ndarray\n",
        "            Probabilities to be binarized\n",
        "        binarization_type : str ('global_threshold', 'class_threshold', 'frame_max')\n",
        "        threshold : float\n",
        "            Binarization threshold, value of the threshold are replaced with 1 and under with 0.\n",
        "            Default value 0.5\n",
        "        time_axis : int\n",
        "            Axis index for the frames\n",
        "            Default value 1\n",
        "        Raises\n",
        "        ------\n",
        "        AssertionError:\n",
        "            Unknown binarization_type\n",
        "        Returns\n",
        "        -------\n",
        "        numpy.ndarray\n",
        "            Binarized data\n",
        "        \"\"\"\n",
        "\n",
        "        if binarization_type not in ['global_threshold', 'class_threshold', 'frame_max']:\n",
        "            message = '{name}: Unknown frame_binarization type [{type}].'.format(\n",
        "                name=self.__class__.__name__,\n",
        "                type=binarization_type\n",
        "            )\n",
        "\n",
        "            self.logger.exception(message)\n",
        "            raise AssertionError(message)\n",
        "\n",
        "        # Get data_axis\n",
        "        if time_axis == 0:\n",
        "            data_axis = 1\n",
        "        else:\n",
        "            data_axis = 0\n",
        "\n",
        "        if binarization_type == 'global_threshold':\n",
        "            return numpy.array(probabilities >= threshold, dtype=int)\n",
        "\n",
        "        elif binarization_type == 'class_threshold' and isinstance(threshold, list):\n",
        "            data = []\n",
        "            for class_id, class_threshold in enumerate(threshold):\n",
        "                if data_axis == 0:\n",
        "                    data.append(numpy.array(probabilities[class_id, :] >= class_threshold, dtype=int))\n",
        "\n",
        "                elif data_axis == 1:\n",
        "                    data.append(numpy.array(probabilities[:, class_id] >= class_threshold, dtype=int))\n",
        "\n",
        "            if data_axis == 0:\n",
        "                return numpy.vstack(data)\n",
        "\n",
        "            elif data_axis == 1:\n",
        "                return numpy.vstack(data).T\n",
        "\n",
        "        elif binarization_type == 'frame_max':\n",
        "            if data_axis == 0:\n",
        "                return numpy.array((probabilities / numpy.max(probabilities, axis=0)) == 1, dtype=int)\n",
        "\n",
        "            elif data_axis == 1:\n",
        "                return numpy.array((probabilities.T / numpy.max(probabilities, axis=1)).T == 1, dtype=int)"
      ],
      "execution_count": null,
      "outputs": []
    },
    {
      "cell_type": "code",
      "metadata": {
        "id": "VNjezZKD1Ul2"
      },
      "source": [
        "def find_contiguous_regions(self, activity_array):\n",
        "        \"\"\"Find contiguous regions from bool valued numpy.array.\n",
        "        Transforms boolean values for each frame into pairs of onsets and offsets.\n",
        "        Parameters\n",
        "        ----------\n",
        "        activity_array : numpy.array [shape=(t)]\n",
        "            Event activity array, bool values\n",
        "        Returns\n",
        "        -------\n",
        "        numpy.ndarray [shape=(2, number of found changes)]\n",
        "            Onset and offset indices pairs in matrix\n",
        "        \"\"\"\n",
        "\n",
        "        # Find the changes in the activity_array\n",
        "        change_indices = numpy.logical_xor(activity_array[1:], activity_array[:-1]).nonzero()[0]\n",
        "\n",
        "        # Shift change_index with one, focus on frame after the change.\n",
        "        change_indices += 1\n",
        "\n",
        "        if activity_array[0]:\n",
        "            # If the first element of activity_array is True add 0 at the beginning\n",
        "            change_indices = numpy.r_[0, change_indices]\n",
        "\n",
        "        if activity_array[-1]:\n",
        "            # If the last element of activity_array is True, add the length of the array\n",
        "            change_indices = numpy.r_[change_indices, activity_array.size]\n",
        "\n",
        "        # Reshape the result into two columns\n",
        "        return change_indices.reshape((-1, 2))"
      ],
      "execution_count": null,
      "outputs": []
    },
    {
      "cell_type": "code",
      "metadata": {
        "id": "Ob3WTxliB7YN"
      },
      "source": [
        "def process_events(self, minimum_event_length=None, minimum_event_gap=None):\n",
        "        \"\"\"Process event content\n",
        "\n",
        "        Makes sure that minimum event length and minimum event gap conditions are met per event label class.\n",
        "\n",
        "        Parameters\n",
        "        ----------\n",
        "        minimum_event_length : float > 0.0\n",
        "            Minimum event length in seconds, shorten than given are filtered out from the output.\n",
        "            Default value None\n",
        "\n",
        "        minimum_event_gap : float > 0.0\n",
        "            Minimum allowed gap between events in seconds from same event label class.\n",
        "            Default value None\n",
        "\n",
        "        Returns\n",
        "        -------\n",
        "        MetaDataContainer\n",
        "\n",
        "        \"\"\"\n",
        "\n",
        "        processed_events = []\n",
        "        files = self.unique_files\n",
        "        if not files:\n",
        "            files = [None]\n",
        "\n",
        "        for filename in files:\n",
        "\n",
        "            for event_label in self.unique_event_labels:\n",
        "                current_events_items = self.filter(filename=filename, event_label=event_label)\n",
        "\n",
        "                # Sort events\n",
        "                current_events_items = sorted(current_events_items, key=lambda k: k.onset)\n",
        "\n",
        "                # 1. remove short events\n",
        "                event_results_1 = []\n",
        "                for event in current_events_items:\n",
        "                    if minimum_event_length is not None:\n",
        "                        if event.offset - event.onset >= minimum_event_length:\n",
        "                            event_results_1.append(event)\n",
        "\n",
        "                    else:\n",
        "                        event_results_1.append(event)\n",
        "\n",
        "                if len(event_results_1) and minimum_event_gap is not None:\n",
        "                    # 2. remove small gaps between events\n",
        "                    event_results_2 = []\n",
        "\n",
        "                    # Load first event into event buffer\n",
        "                    buffered_event_onset = event_results_1[0].onset\n",
        "                    buffered_event_offset = event_results_1[0].offset\n",
        "                    for i in range(1, len(event_results_1)):\n",
        "                        if event_results_1[i].onset - buffered_event_offset > minimum_event_gap:\n",
        "                            # The gap between current event and the buffered is bigger than minimum event gap,\n",
        "                            # store event, and replace buffered event\n",
        "                            current_event = copy.deepcopy(event_results_1[i])\n",
        "                            current_event.onset = buffered_event_onset\n",
        "                            current_event.offset = buffered_event_offset\n",
        "                            event_results_2.append(current_event)\n",
        "\n",
        "                            buffered_event_onset = event_results_1[i].onset\n",
        "                            buffered_event_offset = event_results_1[i].offset\n",
        "\n",
        "                        else:\n",
        "                            # The gap between current event and the buffered is smaller than minimum event gap,\n",
        "                            # extend the buffered event until the current offset\n",
        "                            buffered_event_offset = event_results_1[i].offset\n",
        "\n",
        "                    # Store last event from buffer\n",
        "                    current_event = copy.copy(event_results_1[len(event_results_1) - 1])\n",
        "                    current_event.onset = buffered_event_onset\n",
        "                    current_event.offset = buffered_event_offset\n",
        "                    event_results_2.append(current_event)\n",
        "\n",
        "                    processed_events += event_results_2\n",
        "\n",
        "                else:\n",
        "                    processed_events += event_results_1\n",
        "\n",
        "        return MetaDataContainer(processed_events)"
      ],
      "execution_count": null,
      "outputs": []
    },
    {
      "cell_type": "code",
      "metadata": {
        "id": "q3rEMVNi3ehP"
      },
      "source": [
        "from tensorflow.keras.callbacks import *"
      ],
      "execution_count": null,
      "outputs": []
    },
    {
      "cell_type": "code",
      "metadata": {
        "id": "FdcXYjiG2_Ae"
      },
      "source": [
        "import keras\n",
        "from keras.layers import *\n",
        "from keras.models import Model\n",
        "import os, numpy\n",
        "from tqdm import tqdm_notebook as tqdm\n",
        "import matplotlib.pyplot as plt\n",
        "import sed_eval"
      ],
      "execution_count": null,
      "outputs": []
    },
    {
      "cell_type": "code",
      "metadata": {
        "id": "8T0k4IePAI6B"
      },
      "source": [
        "def readAudio(filename):\n",
        "    x, sr = librosa.load(filename, sr=16000)\n",
        "    return x, sr\n",
        "\n",
        "#calculate spectrogram\n",
        "def calc_spec(x):\n",
        "  \"\"\"Extract acoustic features (stft) for given audio file and return them.\"\"\"\n",
        "    n_fft = 1024\n",
        "    hop_length = 512\n",
        "    win_length = 1024\n",
        "    X = np.abs(librosa.stft(x, n_fft = n_fft, hop_length = hop_length, win_length = win_length, window='hann', dtype = np.complex256))\n",
        "    X = librosa.power_to_db(X**2,ref=np.max)\n",
        "    return X"
      ],
      "execution_count": null,
      "outputs": []
    },
    {
      "cell_type": "code",
      "metadata": {
        "id": "GVUaSmBVVEbv"
      },
      "source": [
        "import librosa\n",
        "def get_feature_matrix(audio_filename_path):  \n",
        "    \"\"\"Extract acoustic features (log mel-energies) for given audio file and store them.\"\"\"\n",
        "    \n",
        "    audio, fs = librosa.load(audio_filename_path)\n",
        "    hop_len = 0.02\n",
        "    mel_extractor = dcase_util.features.MelExtractor(n_mels=40, win_length_seconds=0.04, hop_length_seconds=hop_len, fs = fs)\n",
        "    mel_data = mel_extractor.extract(y=audio)\n",
        "    return mel_data, hop_len\n",
        "        "
      ],
      "execution_count": null,
      "outputs": []
    },
    {
      "cell_type": "code",
      "metadata": {
        "id": "vOaB_dO3BxhG"
      },
      "source": [
        "import librosa\n",
        "def get_feature_matrix_script_features(audio_filename_path):  \n",
        "    \"\"\"Extract acoustic features (log mel-energies) for given audio file and store them.\"\"\"\n",
        "\n",
        "    audio, fs = librosa.load(audio_filename_path, sr = 16000)\n",
        "    mel_data = calc_spec(audio)\n",
        "    return mel_data, 10/mel_data.shape[1]"
      ],
      "execution_count": null,
      "outputs": []
    },
    {
      "cell_type": "code",
      "metadata": {
        "id": "AB1n9eU7ExtL"
      },
      "source": [
        "def csv_to_meta_container(csv_file_path):\n",
        "  \"\"\"Converts CSV files to dcase util containers for easy handling of data inside CSV file\"\"\"\n",
        "  dict_container = dcase_util.containers.ListDictContainer(filename = csv_file_path)\n",
        "  dict_container.load()\n",
        "  train_meta = dcase_util.containers.MetaDataContainer(dict_container)\n",
        "  print(train_meta)\n",
        "  return train_meta"
      ],
      "execution_count": null,
      "outputs": []
    },
    {
      "cell_type": "code",
      "metadata": {
        "id": "0dDLfHr1YKce"
      },
      "source": [
        "train_meta = csv_to_meta_container('/content/drive/MyDrive/5th_sem/Ee603_mlsp/Project/dataset_updated/labels_updated.csv')"
      ],
      "execution_count": null,
      "outputs": []
    },
    {
      "cell_type": "code",
      "metadata": {
        "id": "__qW67yPyypJ"
      },
      "source": [
        "X_train = []\n",
        "Y_train = []\n",
        "audio_folder_name = '/content/drive/MyDrive/5th_sem/Ee603_mlsp/Project/dataset_updated/wav_updated'\n",
        "\n",
        "for audio_filename in os.listdir(audio_folder_name):\n",
        "    \"\"\"Takes in folder of wav files, processes them to extract features, then converts and stacks them to form X_train and Y_train for the model input\"\"\"\n",
        "\n",
        "    # Extract features, load them from file if they exists, if not extract and save\n",
        "    audio_path = os.path.join(audio_folder_name, audio_filename)\n",
        "    features, hop_length_seconds = get_feature_matrix_script_features(audio_path)\n",
        "\n",
        "    # Targets\n",
        "    event_list = train_meta.filter(filename=audio_filename.split('.')[0])\n",
        "    event_roll = event_list.to_event_roll(\n",
        "        label_list = ['speech', 'music'],                                       # Event labels\n",
        "        time_resolution = hop_length_seconds,                   # Time resolution of feature matrix\n",
        "        length_seconds = features.shape[1] * hop_length_seconds   # Length of original audio signal\n",
        "    ).data\n",
        "\n",
        "    X_train.append(features) \n",
        "    Y_train.append(np.array(event_roll))\n",
        " "
      ],
      "execution_count": null,
      "outputs": []
    },
    {
      "cell_type": "code",
      "metadata": {
        "id": "WDkTabiyCEJ1"
      },
      "source": [
        "import numpy as np\n",
        "def load_features_and_labels(features_path, labels_path):\n",
        "  \"\"\"Takes in folder of wav files, processes them to extract features, then converts and stacks them to form X_train and Y_train for the model input\"\"\"\n",
        "  X = np.load(features_path)\n",
        "  Y = np.load(labels_path)\n",
        "  return X, Y"
      ],
      "execution_count": null,
      "outputs": []
    },
    {
      "cell_type": "code",
      "metadata": {
        "id": "8tC2d-bqFThQ"
      },
      "source": [
        "validation_meta = csv_to_meta_container('/content/drive/MyDrive/5th_sem/Ee603_mlsp/Project/dataset_updated/labels_updated.csv')"
      ],
      "execution_count": null,
      "outputs": []
    },
    {
      "cell_type": "code",
      "metadata": {
        "id": "GcvBQP2ayypJ"
      },
      "source": [
        "X_validation = []\n",
        "Y_validation = []\n",
        "validation_data = {}\n",
        "audio_folder_name = '/content/drive/MyDrive/5th_sem/Ee603_mlsp/Project/validation_data/validation_wavs'\n",
        "for audio_filename in os.listdir(audio_folder_name):\n",
        "    \"\"\"Takes in folder of wav files, processes them to extract features, then converts and stacks them to form X_validation and Y_validation for the model input\"\"\"\n",
        "\n",
        "    # Extract features, load them from file if they exists, if not extract and save\n",
        "    audio_path = os.path.join(audio_folder_name, audio_filename)\n",
        "    features, hop_length_seconds = get_feature_matrix_script_features(audio_path)\n",
        "    features = features[:,:500] \n",
        "\n",
        "    # Targets\n",
        "    event_list = validation_meta.filter(filename=audio_filename.split('.')[0])\n",
        "    event_roll = event_list.to_event_roll(\n",
        "        label_list = ['speech', 'music'],                                       # Event labels\n",
        "        time_resolution = hop_length_seconds,                   # Time resolution of feature matrix\n",
        "        length_seconds = features.shape[1] * hop_length_seconds   # Length of original audio signal\n",
        "    ).data\n",
        "\n",
        "    X_validation.append(features) \n",
        "    Y_validation.append(np.array(event_roll))\n",
        "\n",
        "    validation_data[audio_filename] = {\n",
        "        'features' : features,\n",
        "        'meta' : event_list\n",
        "    }"
      ],
      "execution_count": null,
      "outputs": []
    },
    {
      "cell_type": "code",
      "metadata": {
        "id": "zQ2lUasU-63I"
      },
      "source": [
        "X_validation = np.stack(X_validation)\n",
        "Y_validation = np.stack(Y_validation)\n",
        "Y_validation = np.moveaxis(Y_validation, 1, 2)\n",
        "print('----------------------')\n",
        "print('X_validation shape', X_validation.shape)\n",
        "print('Y_validation shape', Y_validation.shape)"
      ],
      "execution_count": null,
      "outputs": []
    },
    {
      "cell_type": "markdown",
      "metadata": {
        "id": "F2hb5_24yypM"
      },
      "source": [
        "Next we create **CRNN** styled neural network structure layer by layer\n",
        "\n",
        "\n",
        "**Input** layer and **Reshaping** layer to add channel axis into input to match `channels_last` mode:"
      ]
    },
    {
      "cell_type": "code",
      "metadata": {
        "id": "_8SaisbnyypM"
      },
      "source": [
        "feature_vector_length = 513   # Number of mel bands\n",
        "sequence_length = 313"
      ],
      "execution_count": null,
      "outputs": []
    },
    {
      "cell_type": "code",
      "metadata": {
        "id": "wnGgVabdyypM"
      },
      "source": [
        "input_layer = Input(\n",
        "    shape=(feature_vector_length, sequence_length), \n",
        "    name='Input'\n",
        ")\n",
        "x = Reshape(\n",
        "    target_shape=(feature_vector_length, sequence_length, 1), \n",
        "    name='Input_Reshape'\n",
        ")(input_layer)\n"
      ],
      "execution_count": null,
      "outputs": []
    },
    {
      "cell_type": "code",
      "metadata": {
        "hide_input": true,
        "colab": {
          "base_uri": "https://localhost:8080/"
        },
        "id": "UINpAvQlyypN",
        "outputId": "45d3f530-6faa-4649-b693-eee34b4d2b90"
      },
      "source": [
        "print('Output shape','(sequence, frequency, time, channel)', x.shape)"
      ],
      "execution_count": null,
      "outputs": [
        {
          "output_type": "stream",
          "name": "stdout",
          "text": [
            "Output shape (sequence, frequency, time, channel) (None, 513, 313, 1)\n"
          ]
        }
      ]
    },
    {
      "cell_type": "markdown",
      "metadata": {
        "id": "cTIKZAQZyypN"
      },
      "source": [
        "**Two convolutional groups** are used to capture small shifts in time and frequency. \n",
        "\n",
        "Similar groups as in sound classification example, except max **pooling done only along frequency** axis as time axis is retained for the detection.\n"
      ]
    },
    {
      "cell_type": "code",
      "metadata": {
        "hide_input": true,
        "colab": {
          "base_uri": "https://localhost:8080/"
        },
        "id": "v3ag5KXiyypN",
        "outputId": "c0d1a040-84e1-41dc-e1fd-9d4e2fb25b7c"
      },
      "source": [
        "print('Input shape','(sequence, frequency, time, channel)', x.shape)"
      ],
      "execution_count": null,
      "outputs": [
        {
          "output_type": "stream",
          "name": "stdout",
          "text": [
            "Input shape (sequence, frequency, time, channel) (None, 513, 313, 1)\n"
          ]
        }
      ]
    },
    {
      "cell_type": "code",
      "metadata": {
        "id": "lX-xqaR9yypO"
      },
      "source": [
        "# Convolution\n",
        "x = Conv2D(filters=64, kernel_size=(3, 3), activation='linear', kernel_initializer='random_normal',\n",
        "           padding='same', data_format='channels_last', name='Conv1')(x)\n",
        "# Batch normalization\n",
        "x = BatchNormalization(axis=-1, name='Conv1_BatchNorm')(x)\n",
        "# Activation\n",
        "x = Activation(activation='relu', name='Conv1_Activation')(x)\n",
        "# Max pooling along frequency axis\n",
        "x = MaxPooling2D(pool_size=(5, 1), name='Conv1_Pooling')(x)\n",
        "# Drop out\n",
        "x = Dropout(rate=0.2, name='Conv1_DropOut')(x)\n"
      ],
      "execution_count": null,
      "outputs": []
    },
    {
      "cell_type": "code",
      "metadata": {
        "hide_input": true,
        "colab": {
          "base_uri": "https://localhost:8080/"
        },
        "id": "e1hYhupByypO",
        "outputId": "fa792741-c232-4576-87f8-ac993a93d07a"
      },
      "source": [
        "print('Output shape', '(sequence, frequency, time, feature)', x.shape)"
      ],
      "execution_count": null,
      "outputs": [
        {
          "output_type": "stream",
          "name": "stdout",
          "text": [
            "Output shape (sequence, frequency, time, feature) (None, 102, 313, 64)\n"
          ]
        }
      ]
    },
    {
      "cell_type": "code",
      "metadata": {
        "hide_input": true,
        "colab": {
          "base_uri": "https://localhost:8080/"
        },
        "id": "s0img3J9yypO",
        "outputId": "6611fe90-3b0b-4054-bd06-f7f098283f00"
      },
      "source": [
        "print('Input shape','(sequence, frequency, time, channel)', x.shape)"
      ],
      "execution_count": null,
      "outputs": [
        {
          "output_type": "stream",
          "name": "stdout",
          "text": [
            "Input shape (sequence, frequency, time, channel) (None, 102, 313, 64)\n"
          ]
        }
      ]
    },
    {
      "cell_type": "code",
      "metadata": {
        "id": "u9gBfPxeyypO"
      },
      "source": [
        "# Convolution\n",
        "x = Conv2D(filters=64, kernel_size=(3, 3), activation='linear', kernel_initializer='random_normal',\n",
        "           padding='same', data_format='channels_last', name='Conv2')(x)\n",
        "# Batch normalization\n",
        "x = BatchNormalization(axis=-1, name='Conv2_BatchNorm')(x)\n",
        "# Activation\n",
        "x = Activation(activation='relu', name='Conv2_Activation')(x)\n",
        "# Max pooling along frequency axis\n",
        "x = MaxPooling2D(pool_size=(4, 1), name='Conv2_Pooling')(x)\n",
        "# Drop out\n",
        "x = Dropout(rate=0.2, name='Conv2_DropOut')(x)\n"
      ],
      "execution_count": null,
      "outputs": []
    },
    {
      "cell_type": "code",
      "metadata": {
        "hide_input": true,
        "colab": {
          "base_uri": "https://localhost:8080/"
        },
        "id": "y15C_GKRyypP",
        "outputId": "2f30e056-4871-4419-c39e-9a16e4529aa8"
      },
      "source": [
        "print('Output shape', '(sequence, frequency, time, feature)', x.shape)"
      ],
      "execution_count": null,
      "outputs": [
        {
          "output_type": "stream",
          "name": "stdout",
          "text": [
            "Output shape (sequence, frequency, time, feature) (None, 25, 313, 64)\n"
          ]
        }
      ]
    },
    {
      "cell_type": "markdown",
      "metadata": {
        "id": "u-aB39aCyypP"
      },
      "source": [
        "To **connect** convolutional layers and recurrent layers, output of the last convolutional group has to be  **Reordered** and **Reshaped**:"
      ]
    },
    {
      "cell_type": "code",
      "metadata": {
        "hide_input": true,
        "colab": {
          "base_uri": "https://localhost:8080/"
        },
        "id": "9c9BsGfqyypP",
        "outputId": "140ee99e-8a03-4b53-ac93-fb2eccb89a96"
      },
      "source": [
        "print('Input shape', '(sequence, frequency, time, feature)', x.shape)"
      ],
      "execution_count": null,
      "outputs": [
        {
          "output_type": "stream",
          "name": "stdout",
          "text": [
            "Input shape (sequence, frequency, time, feature) (None, 25, 313, 64)\n"
          ]
        }
      ]
    },
    {
      "cell_type": "code",
      "metadata": {
        "id": "qJkwQ6AWyypP"
      },
      "source": [
        "x = Permute(\n",
        "    dims=(1, 3, 2), \n",
        "    name='Permute'\n",
        ")(x)\n",
        "\n",
        "x = Reshape(\n",
        "    target_shape=(sequence_length, -1), \n",
        "    name='Reshape'\n",
        ")(x)\n"
      ],
      "execution_count": null,
      "outputs": []
    },
    {
      "cell_type": "code",
      "metadata": {
        "hide_input": true,
        "colab": {
          "base_uri": "https://localhost:8080/"
        },
        "id": "v5x0WD2NyypQ",
        "outputId": "40788ff3-b7f9-4096-cb35-f58368c81361"
      },
      "source": [
        "print('Output shape', '(sequence, time, feature)', x.shape)"
      ],
      "execution_count": null,
      "outputs": [
        {
          "output_type": "stream",
          "name": "stdout",
          "text": [
            "Output shape (sequence, time, feature) (None, 313, 1600)\n"
          ]
        }
      ]
    },
    {
      "cell_type": "markdown",
      "metadata": {
        "id": "N0yEMBUZyypQ"
      },
      "source": [
        "Two **bidirectional** **recurrent** layers (Gated Recurrent Units) are used to integrate information from large time window:"
      ]
    },
    {
      "cell_type": "code",
      "metadata": {
        "hide_input": true,
        "colab": {
          "base_uri": "https://localhost:8080/"
        },
        "id": "W4AN6cgNyypQ",
        "outputId": "86de2214-5b63-45ec-dfb6-507480b103f7"
      },
      "source": [
        "print('Input shape', '(sequence, time, feature)', x.shape)"
      ],
      "execution_count": null,
      "outputs": [
        {
          "output_type": "stream",
          "name": "stdout",
          "text": [
            "Input shape (sequence, time, feature) (None, 313, 1600)\n"
          ]
        }
      ]
    },
    {
      "cell_type": "code",
      "metadata": {
        "id": "FgvuYv1AyypQ"
      },
      "source": [
        "x = Bidirectional(\n",
        "    SimpleRNN(\n",
        "        units=32, activation='tanh', \n",
        "        dropout=0.2, recurrent_dropout=0.2, \n",
        "        return_sequences=True, kernel_initializer='random_normal'\n",
        "    ), merge_mode='mul', name='Recurrent_1'\n",
        ")(x)\n",
        "x = Bidirectional(\n",
        "    SimpleRNN(units=32, activation='tanh', \n",
        "        dropout=0.2, recurrent_dropout=0.2, \n",
        "        return_sequences=True, kernel_initializer='random_normal'\n",
        "    ), merge_mode='mul', name='Recurrent_2'\n",
        ")(x)"
      ],
      "execution_count": null,
      "outputs": []
    },
    {
      "cell_type": "code",
      "metadata": {
        "hide_input": true,
        "colab": {
          "base_uri": "https://localhost:8080/"
        },
        "id": "iVeEyd2TyypR",
        "outputId": "b183525d-8734-40e4-d09c-fa75e223cbbf"
      },
      "source": [
        "print('Output shape', '(sequence, time, feature)', x.shape)"
      ],
      "execution_count": null,
      "outputs": [
        {
          "output_type": "stream",
          "name": "stdout",
          "text": [
            "Output shape (sequence, time, feature) (None, 313, 32)\n"
          ]
        }
      ]
    },
    {
      "cell_type": "markdown",
      "metadata": {
        "id": "HSu_rStIyypR"
      },
      "source": [
        "**Recognition** is done with two **fully-connected** layers using information extracted by the previous layers. \n",
        "\n",
        "Layers are wrapped with `TimeDistributed` class to apply layers independently to each time step.\n",
        "\n",
        "**Output layer** (last fully-connected layer) is with sigmoid activation."
      ]
    },
    {
      "cell_type": "code",
      "metadata": {
        "id": "sIHBUnQ4yypR"
      },
      "source": [
        "x = TimeDistributed(\n",
        "    Dense(units=32, kernel_initializer='random_normal'), name='FC1', \n",
        ")(x)\n",
        "x = Dropout(rate=0.2, name='FC_DropOut')(x)\n",
        "x = TimeDistributed(\n",
        "    Dense(units=2, kernel_initializer='random_normal'), name='Output'\n",
        ")(x)\n",
        "output_layer = Activation('sigmoid', name='Output_Activation')(x)"
      ],
      "execution_count": null,
      "outputs": []
    },
    {
      "cell_type": "code",
      "metadata": {
        "hide_input": true,
        "colab": {
          "base_uri": "https://localhost:8080/"
        },
        "id": "HFEXCTksyypR",
        "outputId": "e46cce82-ca36-4b31-a447-f6589432a6db"
      },
      "source": [
        "print('Output shape', '(sequence, time, classes)', output_layer.shape)"
      ],
      "execution_count": null,
      "outputs": [
        {
          "output_type": "stream",
          "name": "stdout",
          "text": [
            "Output shape (sequence, time, classes) (None, 313, 2)\n"
          ]
        }
      ]
    },
    {
      "cell_type": "markdown",
      "metadata": {
        "id": "QlYxk1A9yypR"
      },
      "source": [
        "Create a model network:"
      ]
    },
    {
      "cell_type": "code",
      "metadata": {
        "id": "61R1BYqHyypR"
      },
      "source": [
        "model = Model(inputs=input_layer, outputs=output_layer)"
      ],
      "execution_count": null,
      "outputs": []
    },
    {
      "cell_type": "code",
      "metadata": {
        "colab": {
          "base_uri": "https://localhost:8080/"
        },
        "id": "u4vqVymJFjot",
        "outputId": "a40c0c5c-c98f-46f2-fb3e-ae6ae30ca913"
      },
      "source": [
        "model.summary()"
      ],
      "execution_count": null,
      "outputs": [
        {
          "output_type": "stream",
          "name": "stdout",
          "text": [
            "Model: \"model\"\n",
            "_________________________________________________________________\n",
            " Layer (type)                Output Shape              Param #   \n",
            "=================================================================\n",
            " Input (InputLayer)          [(None, 513, 313)]        0         \n",
            "                                                                 \n",
            " Input_Reshape (Reshape)     (None, 513, 313, 1)       0         \n",
            "                                                                 \n",
            " Conv1 (Conv2D)              (None, 513, 313, 64)      640       \n",
            "                                                                 \n",
            " Conv1_BatchNorm (BatchNorma  (None, 513, 313, 64)     256       \n",
            " lization)                                                       \n",
            "                                                                 \n",
            " Conv1_Activation (Activatio  (None, 513, 313, 64)     0         \n",
            " n)                                                              \n",
            "                                                                 \n",
            " Conv1_Pooling (MaxPooling2D  (None, 102, 313, 64)     0         \n",
            " )                                                               \n",
            "                                                                 \n",
            " Conv1_DropOut (Dropout)     (None, 102, 313, 64)      0         \n",
            "                                                                 \n",
            " Conv2 (Conv2D)              (None, 102, 313, 64)      36928     \n",
            "                                                                 \n",
            " Conv2_BatchNorm (BatchNorma  (None, 102, 313, 64)     256       \n",
            " lization)                                                       \n",
            "                                                                 \n",
            " Conv2_Activation (Activatio  (None, 102, 313, 64)     0         \n",
            " n)                                                              \n",
            "                                                                 \n",
            " Conv2_Pooling (MaxPooling2D  (None, 25, 313, 64)      0         \n",
            " )                                                               \n",
            "                                                                 \n",
            " Conv2_DropOut (Dropout)     (None, 25, 313, 64)       0         \n",
            "                                                                 \n",
            " Permute (Permute)           (None, 25, 64, 313)       0         \n",
            "                                                                 \n",
            " Reshape (Reshape)           (None, 313, 1600)         0         \n",
            "                                                                 \n",
            " Recurrent_1 (Bidirectional)  (None, 313, 32)          104512    \n",
            "                                                                 \n",
            " Recurrent_2 (Bidirectional)  (None, 313, 32)          4160      \n",
            "                                                                 \n",
            " FC1 (TimeDistributed)       (None, 313, 32)           1056      \n",
            "                                                                 \n",
            " FC_DropOut (Dropout)        (None, 313, 32)           0         \n",
            "                                                                 \n",
            " Output (TimeDistributed)    (None, 313, 2)            66        \n",
            "                                                                 \n",
            " Output_Activation (Activati  (None, 313, 2)           0         \n",
            " on)                                                             \n",
            "                                                                 \n",
            "=================================================================\n",
            "Total params: 147,874\n",
            "Trainable params: 147,618\n",
            "Non-trainable params: 256\n",
            "_________________________________________________________________\n"
          ]
        }
      ]
    },
    {
      "cell_type": "markdown",
      "metadata": {
        "id": "SH_Oo3B2yypS"
      },
      "source": [
        "## Training"
      ]
    },
    {
      "cell_type": "markdown",
      "metadata": {
        "id": "55uHHXOhyypS"
      },
      "source": [
        "## Callbacks"
      ]
    },
    {
      "cell_type": "code",
      "metadata": {
        "colab": {
          "base_uri": "https://localhost:8080/"
        },
        "id": "cvK2SEdd29JF",
        "outputId": "c71d76e2-6abf-4f47-e10f-a3cd29b7553f"
      },
      "source": [
        "!pip install colorama"
      ],
      "execution_count": null,
      "outputs": [
        {
          "output_type": "stream",
          "name": "stdout",
          "text": [
            "Requirement already satisfied: colorama in /usr/local/lib/python3.7/dist-packages (0.4.4)\n"
          ]
        }
      ]
    },
    {
      "cell_type": "code",
      "metadata": {
        "id": "fvmRsV7-yypS"
      },
      "source": [
        "epochs = 100\n",
        "keras_metric = 'binary_accuracy'\n",
        "keras_loss = 'binary_crossentropy'\n",
        "metric_to_monitor = 'ER'\n",
        "external_metrics = {\n",
        "    'ER': 'Error rate',\n",
        "    'F1': 'F-score'\n",
        "}\n",
        "\n",
        "callback_list = [\n",
        "    dcase_util.tfkeras.ProgressLoggerCallback(\n",
        "        epochs=epochs,\n",
        "        metric=keras_metric,\n",
        "        loss=keras_loss,\n",
        "        output_type='console',\n",
        "        show_timing=False,\n",
        "        manual_update=True,\n",
        "        external_metric_labels=external_metrics        \n",
        "    ),\n",
        "    dcase_util.tfkeras.StasherCallback(\n",
        "        epochs=epochs,\n",
        "        monitor=metric_to_monitor,\n",
        "        initial_delay=50,\n",
        "        manual_update=True,\n",
        "        external_metric_labels=external_metrics\n",
        "    )\n",
        "]"
      ],
      "execution_count": null,
      "outputs": []
    },
    {
      "cell_type": "code",
      "metadata": {
        "id": "fihHqQNpyypT"
      },
      "source": [
        "from tensorflow.keras.optimizers import Adam\n",
        "model.compile(\n",
        "    loss=keras_loss,\n",
        "    metrics=[keras_metric],\n",
        "    optimizer=Adam(lr=0.001, decay=0.001)\n",
        ")"
      ],
      "execution_count": null,
      "outputs": []
    },
    {
      "cell_type": "code",
      "metadata": {
        "colab": {
          "base_uri": "https://localhost:8080/"
        },
        "id": "M0LNnlHGyypT",
        "outputId": "c409a2b7-bdf7-431c-b02f-742a8ccddbcb"
      },
      "source": [
        "# Reorder target to fit model\n",
        "Y_train = numpy.moveaxis(Y_train, 1, 2)\n",
        "Y_validation = numpy.moveaxis(Y_validation, 1, 2)\n",
        "\n",
        "print('X_train shape', X_train.shape)\n",
        "print('Y_train shape', Y_train.shape)\n",
        "print('X_validation shape', X_validation.shape)\n",
        "print('Y_validation shape', Y_validation.shape)"
      ],
      "execution_count": null,
      "outputs": [
        {
          "output_type": "stream",
          "name": "stdout",
          "text": [
            "X_train shape (1008, 513, 313)\n",
            "Y_train shape (1008, 2, 313)\n",
            "X_validation shape (12, 513, 313)\n",
            "Y_validation shape (12, 2, 313)\n"
          ]
        }
      ]
    },
    {
      "cell_type": "code",
      "metadata": {
        "colab": {
          "base_uri": "https://localhost:8080/"
        },
        "id": "dVjNzu07GTdV",
        "outputId": "db8f64e1-2925-4943-cb60-6a9ddf8f9be9"
      },
      "source": [
        "# Reorder target to fit model\n",
        "Y_train = numpy.moveaxis(Y_train, 2, 1)\n",
        "Y_validation = numpy.moveaxis(Y_validation, 2, 1)\n",
        "\n",
        "print('X_train shape', X_train.shape)\n",
        "print('Y_train shape', Y_train.shape)\n",
        "print('X_validation shape', X_validation.shape)\n",
        "print('Y_validation shape', Y_validation.shape)"
      ],
      "execution_count": null,
      "outputs": [
        {
          "output_type": "stream",
          "name": "stdout",
          "text": [
            "X_train shape (1008, 513, 313)\n",
            "Y_train shape (1008, 313, 2)\n",
            "X_validation shape (12, 513, 313)\n",
            "Y_validation shape (12, 313, 2)\n"
          ]
        }
      ]
    },
    {
      "cell_type": "code",
      "metadata": {
        "scrolled": true,
        "id": "hXRMx5OSyypT"
      },
      "source": [
        "epochs = 40\n",
        "# Variable to training history including metrics calculated outside keras\n",
        "history_over_epochs = {\n",
        "    'loss': [],\n",
        "    'val_loss': [],\n",
        "    'val_er': [],\n",
        "    'val_f1': [],\n",
        "    'binary_accuracy' : [],\n",
        "    'val_binary_accuracy' : []\n",
        "}\n",
        "\n",
        "# Do training epoch by epoch\n",
        "for epoch_start in range(0, 40):\n",
        "    epoch_end = epoch_start + 1\n",
        "\n",
        "    # Make sure we have only specified amount of epochs\n",
        "    if epoch_end > epochs:\n",
        "        epoch_end = epochs\n",
        "\n",
        "    # Train model\n",
        "    history = model.fit( x=X_train,        y=Y_train,        validation_data=(X_validation, Y_validation),\n",
        "        callbacks= callback_list,\n",
        "        verbose=0,\n",
        "        initial_epoch=epoch_start,\n",
        "        epochs=epoch_end,        batch_size=8,        shuffle=True\n",
        "    )\n",
        "    \n",
        "    # Initialize evaluator\n",
        "    evaluator = sed_eval.sound_event.SegmentBasedMetrics(\n",
        "        event_label_list=['speech', 'music'],\n",
        "        time_resolution=1.0,\n",
        "    )\n",
        "    \n",
        "    # Go through all validation files, do detection and accumulate intermediate statistics for metric calculation\n",
        "    for audio_filename, validation_item in validation_data.items():\n",
        "        # Get input features\n",
        "        input_data = validation_item['features']\n",
        "        input_data = np.expand_dims(input_data, 0)\n",
        "        # Get per frame probabilities in sequences (3D matrix)\n",
        "        item_probabilities_seq = model.predict(x=input_data)\n",
        "        # Merge sequences together (2D matrix)\n",
        "        item_probabilities = numpy.vstack(item_probabilities_seq)\n",
        "\n",
        "        # Binarization \n",
        "        event_activity = dcase_util.data.ProbabilityEncoder().binarization(\n",
        "            probabilities=item_probabilities,\n",
        "            binarization_type='global_threshold',\n",
        "            threshold=0.4\n",
        "        )\n",
        "        \n",
        "        # Get list of detected events\n",
        "        current_estimated = dcase_util.containers.MetaDataContainer()\n",
        "        for event_id, event_label in enumerate(['speech', 'music']):\n",
        "            # Convert active frames into segments and translate frame indices into timestamps\n",
        "            event_segments = dcase_util.data.DecisionEncoder().find_contiguous_regions(\n",
        "                activity_array=event_activity[:, event_id]\n",
        "            ) * 0.03194888178\n",
        "\n",
        "            # Form event items\n",
        "            for event in event_segments:\n",
        "                current_estimated.append(\n",
        "                    {\n",
        "                        'filename': audio_filename,\n",
        "                        'onset': event[0],\n",
        "                        'offset': event[1],\n",
        "                        'event_label': event_label\n",
        "                    }\n",
        "                )\n",
        "                \n",
        "        # Accumulate evaluator with current file\n",
        "        evaluator.evaluate(\n",
        "            reference_event_list=validation_item['meta'],\n",
        "            estimated_event_list=current_estimated\n",
        "        )\n",
        "\n",
        "    # Calculate metrics\n",
        "    overall_metrics = evaluator.results_overall_metrics()\n",
        "    er = overall_metrics['error_rate']['error_rate']\n",
        "    fscore = overall_metrics['f_measure']['f_measure']\n",
        "\n",
        "    # Inject external metric values to the callbacks\n",
        "    for callback in callback_list:\n",
        "        if hasattr(callback, 'set_external_metric_value'):\n",
        "            callback.set_external_metric_value(\n",
        "                metric_label='ER',\n",
        "                metric_value=er\n",
        "            )\n",
        "            callback.set_external_metric_value(\n",
        "                metric_label='F1',\n",
        "                metric_value=fscore\n",
        "            )\n",
        "\n",
        "    # Store metrics\n",
        "    history_over_epochs['loss'].append(history.history['loss'])\n",
        "    history_over_epochs['val_loss'].append(history.history['val_loss'])\n",
        "    history_over_epochs['val_er'].append(er)\n",
        "    history_over_epochs['val_f1'].append(fscore)\n",
        "    history_over_epochs['binary_accuracy'].append(history.history['binary_accuracy'])\n",
        "    history_over_epochs['val_binary_accuracy'].append(history.history['val_binary_accuracy'])\n",
        "\n",
        "    # Manually update callbacks\n",
        "    for callback in callback_list:\n",
        "        if hasattr(callback, 'update'):\n",
        "            callback.update()\n",
        "\n",
        "    # Check if we need to stop training\n",
        "    stop_training = False\n",
        "    for callback in callback_list:\n",
        "        if hasattr(callback, 'stop'):\n",
        "            if callback.stop():\n",
        "                stop_training = True\n",
        "                break\n",
        "\n",
        "    if stop_training:\n",
        "        # Stop the training loop\n",
        "        break\n",
        "\n",
        "# Manually update callbacks\n",
        "for callback in callback_list:\n",
        "    if hasattr(callback, 'close'):\n",
        "        callback.close()\n"
      ],
      "execution_count": null,
      "outputs": []
    },
    {
      "cell_type": "markdown",
      "metadata": {
        "id": "MRhHiGiAyypU"
      },
      "source": [
        "## Best performing model\n",
        "\n",
        "Best performing model was stored during the training process in `StasherCallback`:"
      ]
    },
    {
      "cell_type": "code",
      "metadata": {
        "id": "-qc_RHOIyypU"
      },
      "source": [
        "for callback in callback_list:\n",
        "    if isinstance(callback, dcase_util.keras.StasherCallback):                \n",
        "        model.set_weights(callback.get_best()['weights'])       # Fetch the best performing model        \n",
        "        callback.show()                                         # Show information\n",
        "        break"
      ],
      "execution_count": null,
      "outputs": []
    },
    {
      "cell_type": "markdown",
      "metadata": {
        "id": "mplInOeayypU"
      },
      "source": [
        "Save model and training history:"
      ]
    },
    {
      "cell_type": "code",
      "metadata": {
        "id": "2Ylnhe0KZI0r"
      },
      "source": [
        "model.save(os.path.join('/content/drive/MyDrive/5th_sem/Ee603_mlsp/Project/crnn_gru_sed_weight', 'model_seds_direct_script_30_upto_40_epochs_new.h5'))"
      ],
      "execution_count": null,
      "outputs": []
    },
    {
      "cell_type": "code",
      "metadata": {
        "id": "Kwx4tcmUK_rc"
      },
      "source": [
        "# Save training history\n",
        "dcase_util.files.Serializer().save_cpickle(\n",
        "    filename=os.path.join('/content/drive/MyDrive/5th_sem/Ee603_mlsp/Project', 'model_cnn_rnn_sed_training_history_30_upto_40_epochs_new.cpickle'),\n",
        "    data=history_over_epochs\n",
        ")"
      ],
      "execution_count": null,
      "outputs": []
    },
    {
      "cell_type": "markdown",
      "metadata": {
        "hide_input": true,
        "id": "tLZVuM0eyypU"
      },
      "source": [
        "## Training history"
      ]
    },
    {
      "cell_type": "code",
      "metadata": {
        "id": "YS6BSMz4yypU"
      },
      "source": [
        "hist = dcase_util.files.Serializer().load_cpickle(filename=os.path.join('/content/drive/MyDrive/5th_sem/Ee603_mlsp/Project', 'model_cnn_rnn_sed_training_history_upto_10_epochs.cpickle'))"
      ],
      "execution_count": null,
      "outputs": []
    },
    {
      "cell_type": "code",
      "metadata": {
        "hide_input": true,
        "colab": {
          "base_uri": "https://localhost:8080/",
          "height": 584
        },
        "id": "tC-Hm72eyypV",
        "outputId": "50eb46bb-79a6-4334-e10e-220ef150d532"
      },
      "source": [
        "epochs = range(1, len(hist['loss']) + 1)\n",
        "fig = plt.figure(figsize=(19,8))\n",
        "\n",
        "plt.subplot(3,1,1)\n",
        "plt.plot(epochs, hist['loss'], color='red', linewidth=3, label='Training loss')\n",
        "plt.plot(epochs, hist['val_loss'], color='green', linewidth=3, label='Validation loss')\n",
        "#plt.fill_between(epochs, numpy.squeeze(numpy.array(hist['val_loss'])), color='#6aa84f', linewidth=3, label='Validation loss')\n",
        "plt.ylabel('Loss', fontsize=18)\n",
        "plt.legend(loc='best', fontsize=16)\n",
        "panel = plt.gca()\n",
        "panel.set_xlim([1,len(hist['loss']) + 1])\n",
        "panel.get_xaxis().set_visible(True)\n",
        "\n",
        "plt.subplot(3,1,2)\n",
        "plt.plot(epochs, hist['val_er'], color='blue', linewidth=3, label='Validation Error rate')\n",
        "plt.axhline(y=1, color='red', linestyle='-', linewidth=5, alpha=0.2)\n",
        "plt.ylabel('Error rate', fontsize=18)\n",
        "er_min_index = numpy.argmin(hist['val_er'])\n",
        "plt.axhline(hist['val_er'][er_min_index], color='green', linestyle='-', linewidth=5, alpha=0.5) #'o', markersize=10, color='red')\n",
        "plt.annotate('Minimum achieved ER value', xy=(len(hist['loss']),hist['val_er'][er_min_index]-0.15), fontsize=14, ha='right')\n",
        "plt.annotate('ER=1.0', xy=(len(hist['loss']),1+0.05), fontsize=14, ha='right')\n",
        "panel = plt.gca()\n",
        "panel.set_xlim([1,len(hist['loss']) + 1])\n",
        "panel.get_xaxis().set_visible(True)\n",
        "\n",
        "plt.subplot(3,1,3)\n",
        "plt.plot(epochs, hist['val_f1'], color='black', linewidth=3, label='F-score')\n",
        "plt.ylabel('F-score', fontsize=18)\n",
        "plt.xlabel('Epochs', fontsize=18)\n",
        "panel = plt.gca()\n",
        "panel.set_xlim([1,len(hist['loss']) + 1])\n",
        "plt.tight_layout()\n",
        "plt.show()"
      ],
      "execution_count": null,
      "outputs": [
        {
          "output_type": "display_data",
          "data": {
            "image/png": "[encoded data removed]",
            "text/plain": [
              "<Figure size 1368x576 with 3 Axes>"
            ]
          },
          "metadata": {
            "needs_background": "light"
          }
        }
      ]
    },
    {
      "cell_type": "markdown",
      "metadata": {
        "hide_input": false,
        "id": "cxrRUI1EyypV"
      },
      "source": [
        "# Testing stage"
      ]
    },
    {
      "cell_type": "code",
      "metadata": {
        "id": "TtYxAku1yypV"
      },
      "source": [
        "model = keras.models.load_model('/content/drive/MyDrive/5th_sem/Ee603_mlsp/Project/crnn_gru_sed_weight/model_seds_direct_script_upto_10_epochs_new.h5') # Load model"
      ],
      "execution_count": null,
      "outputs": []
    },
    {
      "cell_type": "markdown",
      "metadata": {
        "hide_input": true,
        "id": "_PlWIVtLyypZ"
      },
      "source": [
        "## Going through all test material"
      ]
    },
    {
      "cell_type": "code",
      "metadata": {
        "colab": {
          "base_uri": "https://localhost:8080/"
        },
        "id": "hU7ZOvWlyypa",
        "outputId": "93adf457-20f8-46e3-ad85-2bcb57f3c79c"
      },
      "source": [
        "res = dcase_util.containers.MetaDataContainer(filename=os.path.join(data_storage_path, 'results_sed.csv'))\n",
        "\n",
        "audio_folder_name = '/content/drive/MyDrive/5th_sem/Ee603_mlsp/Project/validation_data/validation_wavs'\n",
        "for audio_filename in os.listdir(audio_folder_name):\n",
        "    # Load features\n",
        "    # features = get_feature_matrix(item.filename)\n",
        "    # features_sequenced = data_sequencer.sequence(features).data\n",
        "    # input_data = numpy.moveaxis(features_sequenced, 2, 0) # Rearrange axes => (sequence, feature vector, time)\n",
        "    audio_path = os.path.join(audio_folder_name, audio_filename)\n",
        "    features, hop_length_seconds = get_feature_matrix_script_features(audio_path)\n",
        "    #features = features[:,:500]\n",
        "    input_data = features.reshape(1, features.shape[0], features.shape[1])\n",
        "\n",
        "\n",
        "    # Get network output\n",
        "    item_probabilities_seq = model.predict(x=input_data)        # Get per frame probabilities in sequences (3D matrix)\n",
        "    item_probabilities = numpy.vstack(item_probabilities_seq)   # Merge sequences together (2D matrix)\n",
        "\n",
        "    # Event activity\n",
        "    event_activity = dcase_util.data.ProbabilityEncoder().binarization(\n",
        "        probabilities=item_probabilities,\n",
        "        binarization_type='global_threshold',\n",
        "        threshold=0.5\n",
        "    )\n",
        "    current_estimated = dcase_util.containers.MetaDataContainer()\n",
        "    for event_id, event_label in enumerate(['speech', 'music']):\n",
        "        # Convert active frames into segments and translate frame indices into timestamps\n",
        "        event_segments = dcase_util.data.DecisionEncoder().find_contiguous_regions(\n",
        "            activity_array=event_activity[:, event_id]\n",
        "        ) * 0.03194888178\n",
        "\n",
        "        # Form event items\n",
        "        for event in event_segments:\n",
        "            current_estimated.append(\n",
        "                {\n",
        "                    'filename': audio_filename,\n",
        "                    'onset': event[0],\n",
        "                    'offset': event[1],\n",
        "                    'event_label': event_label\n",
        "                }\n",
        "            )\n",
        "            \n",
        "        # Merge events together from same class which are within 100ms\n",
        "        current_estimated = current_estimated.process_events(minimum_event_gap=0.5)\n",
        "        # Remove events which are < 100ms \n",
        "        current_estimated = current_estimated.process_events(minimum_event_length=0.5)\n",
        "        \n",
        "    # Store result into results container\n",
        "    res += current_estimated\n",
        "    \n",
        "# Save results container\n",
        "res.save().show(mode='print')"
      ],
      "execution_count": null,
      "outputs": [
        {
          "output_type": "stream",
          "name": "stdout",
          "text": [
            "MetaDataContainer :: Class\n",
            "Filename                            : /content/data/results_sed.csv \n",
            "Items                               : 34 \n",
            "Unique\n",
            "  Files                             : 12 \n",
            "  Scene labels                      : 0 \n",
            "  Event labels                      : 2 \n",
            "  Tags                              : 0 \n",
            "  Identifiers                       : 0 \n",
            "  Source labels                     : 0 \n",
            "\n",
            "Event statistics\n",
            "  Event label             Count   Tot. Length   Avg. Length   \n",
            "  --------------------   ------   -----------   -----------   \n",
            "  music                      15         36.81          2.45   \n",
            "  speech                     19         43.16          2.27   \n",
            "\n",
            "\n"
          ]
        }
      ]
    },
    {
      "cell_type": "markdown",
      "metadata": {
        "id": "lbB4SP74yypa"
      },
      "source": [
        "# Evaluation\n",
        "\n",
        "`sed_eval` toolbox is used to get Error rate and F-score for test set:"
      ]
    },
    {
      "cell_type": "code",
      "metadata": {
        "id": "cT8tazapyypa"
      },
      "source": [
        "res = dcase_util.containers.MetaDataContainer().load(filename=os.path.join(data_storage_path, 'results_sed.csv'))"
      ],
      "execution_count": null,
      "outputs": []
    },
    {
      "cell_type": "markdown",
      "metadata": {
        "id": "p0AgypUZyypa"
      },
      "source": [
        "## Preparing data for evaluation"
      ]
    },
    {
      "cell_type": "markdown",
      "metadata": {
        "id": "0ihQQ06Cyypa"
      },
      "source": [
        "Prepare reference data and estimated to have filenames in uniform format:"
      ]
    },
    {
      "cell_type": "code",
      "metadata": {
        "id": "fXjT7pH6yypb"
      },
      "source": [
        "reference_event_list = validation_meta\n",
        "estimated_event_list = dcase_util.containers.MetaDataContainer(\n",
        "    filename=os.path.join(data_storage_path, 'results_sed.csv')\n",
        ").load()\n",
        "\n",
        "for item_id, item in enumerate(estimated_event_list):\n",
        "    estimated_event_list[item_id]['filename'] = item.filename.split('.')[0]    "
      ],
      "execution_count": null,
      "outputs": []
    },
    {
      "cell_type": "code",
      "metadata": {
        "id": "tw935_4Ryypb"
      },
      "source": [
        "# Initialize evaluator with list of event labels to be evaluated and segment length\n",
        "evaluator = sed_eval.sound_event.SegmentBasedMetrics(\n",
        "    event_label_list=['speech', 'music'], \n",
        "    time_resolution=0.2                    # 1 second segments\n",
        ")\n",
        "# Loop file by file and accumulate intermediate statistics\n",
        "for filename in reference_event_list.unique_files:\n",
        "    evaluator.evaluate(\n",
        "        reference_event_list=reference_event_list.filter(filename=filename),\n",
        "        estimated_event_list=estimated_event_list.filter(filename=filename)\n",
        "    ) \n",
        "metrics = evaluator.results_overall_metrics()"
      ],
      "execution_count": null,
      "outputs": []
    },
    {
      "cell_type": "markdown",
      "metadata": {
        "id": "mYzc3xUQyypb"
      },
      "source": [
        "## Metric values"
      ]
    },
    {
      "cell_type": "code",
      "metadata": {
        "hide_input": true,
        "colab": {
          "base_uri": "https://localhost:8080/",
          "height": 224
        },
        "id": "j11VT-M6yypb",
        "outputId": "f879c98a-1eaf-4858-cb48-c90c71ea73bc"
      },
      "source": [
        "log.table(\n",
        "    column_headers=['Metric', 'Value'],\n",
        "    cell_data=[\n",
        "        [\n",
        "          '<strong>F-score</strong>',\n",
        "          'Precision',\n",
        "          'Recall',\n",
        "          '<strong>Error rate</strong>',\n",
        "            'Substitutions',\n",
        "            'Deletions',\n",
        "            'Insertions'\n",
        "        ],\n",
        "        [\n",
        "            metrics['f_measure']['f_measure']*100.0,\n",
        "            metrics['f_measure']['precision']*100.0,\n",
        "            metrics['f_measure']['recall']*100.0,\n",
        "            metrics['error_rate']['error_rate'],\n",
        "            metrics['error_rate']['substitution_rate'],\n",
        "            metrics['error_rate']['deletion_rate'],\n",
        "            metrics['error_rate']['insertion_rate'],\n",
        "        ]\n",
        "    ],\n",
        "    row_separators=[3],\n",
        "    scaling=130\n",
        ")"
      ],
      "execution_count": null,
      "outputs": [
        {
          "output_type": "display_data",
          "data": {
            "text/html": [
              "<table class=\"table table-striped table-condensed\" style=\"font-size:130%;width:auto;margin-top:0em;margin-left:0px;\"><thead style=\"border-bottom: 0px solid transparent;\"><tr><th style=\"width:200px;border-bottom:2px solid #333;text-align:left;\">Metric</th><th style=\"width:60px;border-bottom:2px solid #333;text-align:right;\">Value</th></tr></thead><tbody><tr><td style=\"text-align:left;\"><strong>F-score</strong></td><td style=\"text-align:right;\">  1.46</td></tr><tr><td style=\"text-align:left;\">Precision</td><td style=\"text-align:right;\"> 49.45</td></tr><tr><td style=\"text-align:left;\">Recall</td><td style=\"text-align:right;\">  0.74</td></tr><tr><td style=\"border-top:2px solid #333;text-align:left;\"><strong>Error rate</strong></td><td style=\"border-top:2px solid #333;text-align:right;\">  1.00</td></tr><tr><td style=\"text-align:left;\">Substitutions</td><td style=\"text-align:right;\">  0.00</td></tr><tr><td style=\"text-align:left;\">Deletions</td><td style=\"text-align:right;\">  0.99</td></tr><tr><td style=\"text-align:left;\">Insertions</td><td style=\"text-align:right;\">  0.00</td></tr></tbody></table>"
            ],
            "text/plain": [
              "<IPython.core.display.HTML object>"
            ]
          },
          "metadata": {}
        }
      ]
    },
    {
      "cell_type": "markdown",
      "metadata": {
        "id": "fQbc4t5Myypb"
      },
      "source": [
        "## Class-wise metrics"
      ]
    },
    {
      "cell_type": "code",
      "metadata": {
        "hide_input": true,
        "id": "aTvDRHJEyypb",
        "colab": {
          "base_uri": "https://localhost:8080/",
          "height": 95
        },
        "outputId": "2c8dcd52-1229-40cb-c4f5-ac99906174e1"
      },
      "source": [
        "class_metrics = evaluator.results_class_wise_metrics()\n",
        "Nref = []\n",
        "Nsys = []\n",
        "Fscore=[]\n",
        "for event_label in list(class_metrics.keys()):\n",
        "    Nref.append(class_metrics[event_label]['count']['Nref'])\n",
        "    Nsys.append(class_metrics[event_label]['count']['Nsys'])\n",
        "    Fscore.append(class_metrics[event_label]['f_measure']['f_measure']*100.0)\n",
        "log.table(\n",
        "    column_headers=['Event', 'Nref', 'Nsys', 'Fscore'],\n",
        "    cell_data=[\n",
        "        list(class_metrics.keys()),Nref,Nsys,Fscore\n",
        "    ],\n",
        "    column_types=['str25', 'int', 'int', 'float2'],\n",
        "    column_separators=[0,2],\n",
        "    scaling=130\n",
        ")"
      ],
      "execution_count": null,
      "outputs": [
        {
          "output_type": "display_data",
          "data": {
            "text/html": [
              "<table class=\"table table-striped table-condensed\" style=\"font-size:130%;width:auto;margin-top:0em;margin-left:0px;\"><thead style=\"border-bottom: 0px solid transparent;\"><tr><th style=\"width:250px;border-bottom:2px solid #333;border-right:2px solid #333;text-align:left;\">Event</th><th style=\"width:60px;border-bottom:2px solid #333;text-align:right;\">Nref</th><th style=\"width:60px;border-bottom:2px solid #333;border-right:2px solid #333;text-align:right;\">Nsys</th><th style=\"width:60px;border-bottom:2px solid #333;text-align:right;\">Fscore</th></tr></thead><tbody><tr><td style=\"border-right:2px solid #333;text-align:left;\">speech</td><td style=\"text-align:right;\">15750</td><td style=\"border-right:2px solid #333;text-align:right;\">286</td><td style=\"text-align:right;\">  1.40</td></tr><tr><td style=\"border-right:2px solid #333;text-align:left;\">music</td><td style=\"text-align:right;\">14250</td><td style=\"border-right:2px solid #333;text-align:right;\">237</td><td style=\"text-align:right;\">  1.10</td></tr></tbody></table>"
            ],
            "text/plain": [
              "<IPython.core.display.HTML object>"
            ]
          },
          "metadata": {}
        }
      ]
    },
    {
      "cell_type": "markdown",
      "metadata": {
        "id": "zERp7LXHyypc"
      },
      "source": [
        "Output directly from `sed_eval` evaluator:"
      ]
    },
    {
      "cell_type": "code",
      "metadata": {
        "hide_input": false,
        "id": "_Udejr7_yypc",
        "colab": {
          "base_uri": "https://localhost:8080/"
        },
        "outputId": "1139d687-cb77-4564-8f2f-cc2517b61953"
      },
      "source": [
        "print(evaluator)    "
      ],
      "execution_count": null,
      "outputs": [
        {
          "output_type": "stream",
          "name": "stdout",
          "text": [
            "Segment based metrics\n",
            "========================================\n",
            "  Evaluated length                  : 116.19 sec\n",
            "  Evaluated files                   : 12 \n",
            "  Segment length                    : 200.00 ms\n",
            "\n",
            "  Overall metrics (micro-average)\n",
            "  ======================================\n",
            "  F-measure\n",
            "    F-measure (F1)                  : 41.85 %\n",
            "    Precision                       : 32.61 %\n",
            "    Recall                          : 58.40 %\n",
            "  Error rate\n",
            "    Error rate (ER)                 : 1.39 \n",
            "    Substitution rate               : 0.24 \n",
            "    Deletion rate                   : 0.18 \n",
            "    Insertion rate                  : 0.97 \n",
            "  Accuracy\n",
            "    Sensitivity                     : 58.40 %\n",
            "    Specificity                     : 40.96 %\n",
            "    Balanced accuracy               : 49.68 %\n",
            "    Accuracy                        : 46.69 %\n",
            "\n",
            "  Class-wise average metrics (macro-average)\n",
            "  ======================================\n",
            "  F-measure\n",
            "    F-measure (F1)                  : 41.59 %\n",
            "    Precision                       : 33.30 %\n",
            "    Recall                          : 59.44 %\n",
            "  Error rate\n",
            "    Error rate (ER)                 : 1.64 \n",
            "    Deletion rate                   : 0.41 \n",
            "    Insertion rate                  : 1.24 \n",
            "  Accuracy\n",
            "    Sensitivity                     : 59.44 %\n",
            "    Specificity                     : 41.49 %\n",
            "    Balanced accuracy               : 50.47 %\n",
            "    Accuracy                        : 46.69 %\n",
            "  \n",
            "\n",
            "  Class-wise metrics\n",
            "  ======================================\n",
            "    Event label  | Nref    Nsys  | F        Pre      Rec    | ER       Del      Ins    | Sens     Spec     Bacc     Acc     \n",
            "    ------------ | -----   ----- | ------   ------   ------ | ------   ------   ------ | ------   ------   ------   ------  \n",
            "    speech       | 207     256   | 39.7%    35.9%    44.4%  | 1.35     0.56     0.79   | 44.4%    57.1%    50.8%    52.6%   \n",
            "    music        | 180     437   | 43.4%    30.7%    74.4%  | 1.94     0.26     1.68   | 74.4%    25.9%    50.2%    40.7%   \n",
            "\n",
            "\n"
          ]
        }
      ]
    }
  ]
}